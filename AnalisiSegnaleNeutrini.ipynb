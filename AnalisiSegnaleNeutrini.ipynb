{
 "cells": [
  {
   "cell_type": "code",
   "execution_count": 589,
   "id": "1027f05b",
   "metadata": {},
   "outputs": [
    {
     "name": "stdout",
     "output_type": "stream",
     "text": [
      "Requirement already satisfied: tabulate in c:\\users\\diesi\\anaconda3\\lib\\site-packages (0.8.9)\n"
     ]
    }
   ],
   "source": [
    "import uproot \n",
    "import pylab\n",
    "import awkward\n",
    "import numpy as np\n",
    "import matplotlib.pyplot as plt\n",
    "!pip install tabulate\n",
    "from tabulate import tabulate"
   ]
  },
  {
   "cell_type": "code",
   "execution_count": 486,
   "id": "ea7ecfaf",
   "metadata": {},
   "outputs": [],
   "source": [
    "input_file_emu = uproot.open('all13TeVK0.root')             # elettronici e muonici\n",
    "input_file_tau=uproot.open('NeutTau_filter.root')           # tau \n",
    "input_file_antitau=uproot.open('AntiNeutTau_filter.root')   # anti-tau"
   ]
  },
  {
   "cell_type": "markdown",
   "id": "06fc589b",
   "metadata": {},
   "source": [
    "# Definizione delle variabili"
   ]
  },
  {
   "cell_type": "code",
   "execution_count": 487,
   "id": "542febbe",
   "metadata": {},
   "outputs": [],
   "source": [
    "##############################\n",
    "### elettronici e muonici ###\n",
    "#############################\n",
    "\n",
    "emu = input_file_emu['t']\n",
    "\n",
    "###################################\n",
    "##  definizione delle variabili ##\n",
    "##################################\n",
    "kin_emu = emu['Ekin'].array()\n",
    "x_emu,      y_emu     = emu['x'].array(),     emu['y'].array()\n",
    "x_emu_cos , y_emu_cos = emu['x_cos'].array(), emu['y_cos'].array()\n",
    "weight_emu = emu['weight'].array()\n",
    "Fluid = emu['FlukaID'].array()\n",
    "\n",
    "######################################################\n",
    "##         seleziono attraverso il FLUKA ID        ##\n",
    "#####################################################\n",
    "kin_el = kin_emu[Fluid==5]\n",
    "kin_antiel = kin_emu[Fluid==6]\n",
    "kin_mu = kin_emu[Fluid==27]\n",
    "kin_antimu = kin_emu[Fluid==28]\n",
    "\n",
    "x_el = x_emu[Fluid==5]\n",
    "x_antiel = x_emu[Fluid==6]\n",
    "x_mu = x_emu[Fluid==27]\n",
    "x_antimu = x_emu[Fluid==28]\n",
    "\n",
    "y_el = y_emu[Fluid==5]\n",
    "y_antiel = y_emu[Fluid==6]\n",
    "y_mu = y_emu[Fluid==27]\n",
    "y_antimu = y_emu[Fluid==28]\n",
    "\n",
    "x_cos_el = x_emu[Fluid==5]\n",
    "x_cos_antiel = x_emu[Fluid==6]\n",
    "x_cos_mu = x_emu[Fluid==27]\n",
    "x_cos_antimu = x_emu[Fluid==28]\n",
    "\n",
    "y_cos_el = y_emu[Fluid==5]\n",
    "y_cos_antiel = y_emu[Fluid==6]\n",
    "y_cos_mu = y_emu[Fluid==27]\n",
    "y_cos_antimu = y_emu[Fluid==28]\n",
    "\n",
    "weight_el = weight_emu[Fluid==5]\n",
    "weight_antiel = weight_emu[Fluid==6]\n",
    "weight_mu = weight_emu[Fluid==27]\n",
    "weight_antimu = weight_emu[Fluid==28]"
   ]
  },
  {
   "cell_type": "code",
   "execution_count": 488,
   "id": "4a76b479",
   "metadata": {},
   "outputs": [],
   "source": [
    "#################\n",
    "###   tau    ###\n",
    "################\n",
    "\n",
    "tau=input_file_tau['t']\n",
    "antitau=input_file_antitau['t']\n",
    "\n",
    "###################################\n",
    "##  definizione delle variabili ##\n",
    "##################################\n",
    "\n",
    "kin_tau=tau['Ekin'].array()\n",
    "kin_antitau=antitau['Ekin'].array()\n",
    "x_tau, y_tau = tau['x'].array(), tau['y'].array()\n",
    "x_antitau, y_antitau = antitau['x'].array(), antitau['y'].array()\n",
    "weight_tau=tau['weight'].array()\n",
    "weight_antitau=antitau['weight'].array()"
   ]
  },
  {
   "cell_type": "markdown",
   "id": "8ced551b",
   "metadata": {},
   "source": [
    "### Selezione delle particelle nell'area del bersaglio"
   ]
  },
  {
   "cell_type": "code",
   "execution_count": 489,
   "id": "44a03e45",
   "metadata": {},
   "outputs": [],
   "source": [
    "##########################\n",
    "### Energie cinetiche ###\n",
    "#########################\n",
    "\n",
    "kin_el=kin_el[np.logical_and(np.logical_and(x_el<-8.0,\n",
    "                             x_el>-47.6),\n",
    "                             np.logical_and(y_el<55.1,\n",
    "                             y_el>15.5))]\n",
    "\n",
    "kin_mu=kin_mu[np.logical_and(np.logical_and(x_mu<-8.0,\n",
    "                             x_mu>-47.6),\n",
    "                             np.logical_and(y_mu<55.1,\n",
    "                             y_mu>15.5))]\n",
    "\n",
    "kin_tau=kin_tau[np.logical_and(np.logical_and(x_tau<-8.0,\n",
    "                             x_tau>-47.6),\n",
    "                             np.logical_and(y_tau<55.1,\n",
    "                             y_tau>15.5))]\n",
    "\n",
    "kin_antiel=kin_antiel[np.logical_and(np.logical_and(x_antiel<-8.0,\n",
    "                             x_antiel>-47.6),\n",
    "                             np.logical_and(y_antiel<55.1,\n",
    "                             y_antiel>15.5))]\n",
    "\n",
    "kin_antimu=kin_antimu[np.logical_and(np.logical_and(x_antimu<-8.0,\n",
    "                             x_antimu>-47.6),\n",
    "                             np.logical_and(y_antimu<55.1,\n",
    "                             y_antimu>15.5))]\n",
    "\n",
    "kin_antitau=kin_antitau[np.logical_and(np.logical_and(x_antitau<-8.0,\n",
    "                             x_antitau>-47.6),\n",
    "                             np.logical_and(y_antitau<55.1,\n",
    "                             y_antitau>15.5))]\n"
   ]
  },
  {
   "cell_type": "code",
   "execution_count": 490,
   "id": "38113f44",
   "metadata": {},
   "outputs": [],
   "source": [
    "#################\n",
    "###   pesi   ###\n",
    "################\n",
    "\n",
    "weight_el=weight_el[np.logical_and(np.logical_and(x_el<-8.0,\n",
    "                             x_el>-47.6),\n",
    "                             np.logical_and(y_el<55.1,\n",
    "                             y_el>15.5))]\n",
    "\n",
    "weight_mu=weight_mu[np.logical_and(np.logical_and(x_mu<-8.0,\n",
    "                             x_mu>-47.6),\n",
    "                             np.logical_and(y_mu<55.1,\n",
    "                             y_mu>15.5))]\n",
    "\n",
    "weight_tau=weight_tau[np.logical_and(np.logical_and(x_tau<-8.0,\n",
    "                             x_tau>-47.6),\n",
    "                             np.logical_and(y_tau<55.1,\n",
    "                             y_tau>15.5))]\n",
    "\n",
    "weight_antiel=weight_antiel[np.logical_and(np.logical_and(x_antiel<-8.0,\n",
    "                             x_antiel>-47.6),\n",
    "                             np.logical_and(y_antiel<55.1,\n",
    "                             y_antiel>15.5))]\n",
    "\n",
    "weight_antimu=weight_antimu[np.logical_and(np.logical_and(x_antimu<-8.0,\n",
    "                             x_antimu>-47.6),\n",
    "                             np.logical_and(y_antimu<55.1,\n",
    "                             y_antimu>15.5))]\n",
    "\n",
    "weight_antitau=weight_antitau[np.logical_and(np.logical_and(x_antitau<-8.0,\n",
    "                             x_antitau>-47.6),\n",
    "                             np.logical_and(y_antitau<55.1,\n",
    "                             y_antitau>15.5))]"
   ]
  },
  {
   "cell_type": "markdown",
   "id": "4e37fd89",
   "metadata": {},
   "source": [
    "##### Coefficienti di normalizzazione"
   ]
  },
  {
   "cell_type": "code",
   "execution_count": 536,
   "id": "c02967d0",
   "metadata": {},
   "outputs": [],
   "source": [
    "# 37.8 x 10^6 collisioni per neutrini elettronici e muonici -> luminosità\n",
    "L_el_mu = 37.8 * 10**6 /  (8 * 10**13)\n",
    "\n",
    "# 56.0 x 10^6 collisioni per neutrini tau -> luminosità\n",
    "L_tau   = 385.720  *  10**6  / (8 * 10**13)\n",
    "\n",
    "norm_el = 150 / L_el_mu\n",
    "norm_antiel = 150 / L_el_mu \n",
    "norm_mu = 150 / L_el_mu\n",
    "norm_antimu = 150 / L_el_mu\n",
    "norm_tau = 150 / L_tau\n",
    "norm_antitau = 150 / L_tau\n"
   ]
  },
  {
   "cell_type": "markdown",
   "id": "ce6e24fd",
   "metadata": {},
   "source": [
    "# Spettri energetici (singoli)"
   ]
  },
  {
   "cell_type": "markdown",
   "id": "b6c458a1",
   "metadata": {},
   "source": [
    "##### Elettronici"
   ]
  },
  {
   "cell_type": "code",
   "execution_count": 537,
   "id": "4c14288c",
   "metadata": {},
   "outputs": [],
   "source": [
    "# selezione delle componenti\n",
    "\n",
    "weight_el1 = weight_el[ weight_el == 1]         # other\n",
    "weight_el_not1 = weight_el[ weight_el != 1 ]     # pions/kaons\n",
    "\n",
    "kin_el_not1=kin_el[weight_el!=1]\n",
    "kin_el1=kin_el[weight_el==1]"
   ]
  },
  {
   "cell_type": "code",
   "execution_count": 538,
   "id": "fdeb49c2",
   "metadata": {},
   "outputs": [],
   "source": [
    "###############################\n",
    "### SETTAGGIO DEI GRAFICI ####\n",
    "##############################\n",
    "\n",
    "# binning\n",
    "binning_el = 100\n",
    "binning_el = np.linspace(0,10**4,250)\n",
    "binning_el = np.logspace(0,4, 100)\n",
    "\n",
    "# scale\n",
    "x_scale = 'log'\n",
    "y_scale = 'log'                       # log or linear\n",
    "\n",
    "limiti  = False                       # True o False per decidere se usare o meno i limiti settati dall'utente\n",
    "\n",
    "x_down  = 100                         # limiti\n",
    "x_up    = 5000\n",
    "y_down  = max(values_el) * 1/3000    \n",
    "y_up    = max(values_el) * 3\n",
    "\n",
    "grid    = False                       # True or False per avere o no una griglia\n",
    "\n",
    "histtype= 'stepfilled'                # Tipo di istogramma e trama\n",
    "hatch   = '/////'                    "
   ]
  },
  {
   "cell_type": "code",
   "execution_count": 539,
   "id": "099c3f99",
   "metadata": {},
   "outputs": [
    {
     "data": {
      "image/png": "[encoded data removed]",
      "text/plain": [
       "<Figure size 432x288 with 1 Axes>"
      ]
     },
     "metadata": {
      "needs_background": "light"
     },
     "output_type": "display_data"
    }
   ],
   "source": [
    "values_el, bins_el, patches_el = plt.hist(kin_el,\n",
    "         bins = binning_el, align = 'mid',\n",
    "         weights = weight_el * norm_el,                       \n",
    "         color = 'white',\n",
    "         edgecolor = 'grey',\n",
    "         histtype = histtype, stacked = True,\n",
    "         label = 'Tot')\n",
    "\n",
    "# other\n",
    "values1_el, bins1_el, patches1_el = plt.hist(kin_el1,\n",
    "         bins = binning_el, align='mid',\n",
    "         weights = weight_el1 * norm_el,\n",
    "         color = 'white',\n",
    "         edgecolor = 'teal',\n",
    "         histtype = histtype,\n",
    "         hatch = hatch, stacked = True,\n",
    "         label = 'Heavy')\n",
    "\n",
    "# pions/kaons\n",
    "values_not1_el, bins_not1_el, patches_not1_el = plt.hist(kin_el_not1,\n",
    "         bins = binning_el, align='mid',\n",
    "         weights = weight_el_not1 * norm_el,\n",
    "         color = 'white',\n",
    "         edgecolor = 'indianred',\n",
    "         histtype = histtype,\n",
    "         hatch = hatch,stacked = True,\n",
    "         label = '$\\pi$/K')\n",
    "\n",
    "\n",
    "\n",
    "plt.legend(loc='upper right')\n",
    "plt.xlabel('E [GeV]')\n",
    "\n",
    "if limiti:\n",
    "  plt.xlim([x_down,x_up])\n",
    "  plt.ylim([y_down,y_up])\n",
    "\n",
    "plt.xscale(x_scale)\n",
    "plt.yscale(y_scale)\n",
    "\n",
    "if grid:\n",
    " plt.grid()\n",
    "\n",
    "plt.title('$\\N{greek small letter nu}_e$')\n",
    "\n",
    "\n",
    "\n",
    "plt.show()"
   ]
  },
  {
   "cell_type": "code",
   "execution_count": 599,
   "id": "e9ce331f",
   "metadata": {},
   "outputs": [
    {
     "name": "stdout",
     "output_type": "stream",
     "text": [
      "╒═══════════════════╤════════════════════╤═══════════════════╕\n",
      "│ Totale            │ Heavy              │ pi/K              │\n",
      "╞═══════════════════╪════════════════════╪═══════════════════╡\n",
      "│ 266,648,202,755   │ 193,333,333,333    │ 73,314,869,421    │\n",
      "├───────────────────┼────────────────────┼───────────────────┤\n",
      "│ <E> totale        │ <E> heavy          │ <E> pi/k          │\n",
      "├───────────────────┼────────────────────┼───────────────────┤\n",
      "│ 397.5726165827831 │ 493.26218127737155 │ 145.2365945243209 │\n",
      "╘═══════════════════╧════════════════════╧═══════════════════╛\n"
     ]
    }
   ],
   "source": [
    "############################\n",
    "# ENERGIE CINETICHE MEDIE #\n",
    "###########################\n",
    "\n",
    "kin_el_avg      = sum(kin_el  * weight_el)      /  sum(weight_el)\n",
    "kin_el_avg1     = sum(kin_el1 * weight_el1)     /  sum(weight_el1)\n",
    "kin_el_avg_not1 = sum(kin_el_not1 * weight_el_not1)     /  sum(weight_el_not1)\n",
    "\n",
    "\n",
    "table_el = [  ['Totale'    ,'Heavy'    , 'pi/K'        ],\n",
    "              [str( \"{:,}\".format(int(values_el.sum())))   , str( \"{:,}\".format(int(values1_el.sum()))), str( \"{:,}\".format(int(values_not1_el.sum())))  ],   \n",
    "              ['<E> totale','<E> heavy', '<E> pi/k'       ],\n",
    "              [kin_el_avg  , kin_el_avg1, kin_el_avg_not1]] \n",
    "\n",
    "print(tabulate(table_el, headers='firstrow', tablefmt='fancy_grid'))"
   ]
  },
  {
   "cell_type": "markdown",
   "id": "99817eb4",
   "metadata": {},
   "source": [
    "##### Anti-elettronici -----------------------------------------------------------"
   ]
  },
  {
   "cell_type": "code",
   "execution_count": 541,
   "id": "9a93fb50",
   "metadata": {},
   "outputs": [],
   "source": [
    "weight_antiel1 = weight_antiel[ weight_antiel == 1]         # other\n",
    "weight_antiel_not1 = weight_antiel[ weight_antiel != 1]     # pions/kaons\n",
    "\n",
    "kin_antiel_not1=kin_antiel[ weight_antiel !=1 ]\n",
    "kin_antiel1=kin_antiel[ weight_antiel ==1 ]"
   ]
  },
  {
   "cell_type": "code",
   "execution_count": 542,
   "id": "b9641c1b",
   "metadata": {},
   "outputs": [],
   "source": [
    "###############################\n",
    "### SETTAGGIO DEI GRAFICI ####\n",
    "##############################\n",
    "\n",
    "# binning\n",
    "binning_antiel = 100\n",
    "binning_antiel = np.linspace(0,10**4,250)\n",
    "binning_antiel = np.logspace(0,4, 100)\n",
    "\n",
    "# scale\n",
    "x_scale = 'log'\n",
    "y_scale = 'log'                       # log or linear\n",
    "\n",
    "limiti  = False                       # True o False per decidere se usare o meno i limiti settati dall'utente\n",
    "\n",
    "x_down  = 100                         # limiti\n",
    "x_up    = 5000\n",
    "y_down  = max(values_el) * 1/3000    \n",
    "y_up    = max(values_el) * 3\n",
    "\n",
    "grid    = False                       # True or False per avere o no una griglia\n",
    "\n",
    "histtype= 'stepfilled'                # Tipo di istogramma e trama\n",
    "hatch   = '/////'"
   ]
  },
  {
   "cell_type": "code",
   "execution_count": 543,
   "id": "49714ddb",
   "metadata": {},
   "outputs": [
    {
     "data": {
      "image/png": "[encoded data removed]",
      "text/plain": [
       "<Figure size 432x288 with 1 Axes>"
      ]
     },
     "metadata": {
      "needs_background": "light"
     },
     "output_type": "display_data"
    }
   ],
   "source": [
    "# ISTORGRAMMI\n",
    "# totale\n",
    "values_antiel, bins_antiel, patches_antiel = plt.hist(kin_antiel,\n",
    "         bins = binning_antiel, align = 'mid',\n",
    "         weights = weight_antiel * norm_el,\n",
    "         color = 'white',\n",
    "         edgecolor = 'grey',\n",
    "         histtype = histtype,stacked = True,\n",
    "         label = 'Tot')\n",
    "\n",
    "# other\n",
    "values1_antiel, bins1_antiel, patches1_antiel = plt.hist(kin_antiel1,\n",
    "         bins = binning_antiel, align = 'mid',\n",
    "         weights = weight_antiel1 * norm_el,\n",
    "         color = 'white',\n",
    "         edgecolor = 'teal',\n",
    "         histtype = histtype,\n",
    "         hatch = hatch,stacked = True,\n",
    "         label = 'Heavy')\n",
    "\n",
    "# pions/kaons\n",
    "values_not1_antiel, bins_not1_antiel, patches_not1_antiel=plt.hist(kin_antiel_not1,\n",
    "         bins = binning_antiel, align = 'mid',\n",
    "         weights = weight_antiel_not1 * norm_el,\n",
    "         color = 'white',\n",
    "         edgecolor = 'indianred',\n",
    "         histtype = histtype,\n",
    "         hatch = hatch,stacked = True,\n",
    "         label = '$\\pi/K$')\n",
    "\n",
    "\n",
    "\n",
    "plt.legend(loc='upper right')\n",
    "plt.xlabel('E [GeV]')\n",
    "\n",
    "if limiti:\n",
    "  plt.xlim([x_down,x_up])\n",
    "  plt.ylim([y_down,y_up])\n",
    "\n",
    "plt.xscale(x_scale)\n",
    "plt.yscale(y_scale)\n",
    "\n",
    "if grid:\n",
    " plt.grid()\n",
    "\n",
    "plt.title('anti-$\\N{greek small letter nu}_e$')\n",
    "\n",
    "\n",
    "\n",
    "plt.show()"
   ]
  },
  {
   "cell_type": "code",
   "execution_count": 600,
   "id": "022e2db6",
   "metadata": {},
   "outputs": [
    {
     "name": "stdout",
     "output_type": "stream",
     "text": [
      "╒════════════════════╤════════════════════╤════════════════════╕\n",
      "│ Totale             │ Heavy              │ pi/K               │\n",
      "╞════════════════════╪════════════════════╪════════════════════╡\n",
      "│ 283,632,919,722    │ 212,698,412,698    │ 70,934,507,024     │\n",
      "├────────────────────┼────────────────────┼────────────────────┤\n",
      "│ <E> totale         │ <E> heavy          │ <E> pi/k           │\n",
      "├────────────────────┼────────────────────┼────────────────────┤\n",
      "│ 404.23072863079335 │ 493.14318074435386 │ 137.62511978102705 │\n",
      "╘════════════════════╧════════════════════╧════════════════════╛\n"
     ]
    }
   ],
   "source": [
    "############################\n",
    "# ENERGIE CINETICHE MEDIE #\n",
    "###########################\n",
    "\n",
    "kin_antiel_avg      = sum(kin_antiel  * weight_antiel)      /  sum(weight_antiel)\n",
    "kin_antiel_avg1     = sum(kin_antiel1 * weight_antiel1)     /  sum(weight_antiel1)\n",
    "kin_antiel_avg_not1 = sum(kin_antiel_not1 * weight_antiel_not1)     /  sum(weight_antiel_not1)\n",
    "\n",
    "\n",
    "table_antiel = [  ['Totale'    ,'Heavy'    , 'pi/K'        ],\n",
    "              [str( \"{:,}\".format(int(values_antiel.sum())))   , str( \"{:,}\".format(int(values1_antiel.sum()))), str( \"{:,}\".format(int(values_not1_antiel.sum())))  ],   \n",
    "              ['<E> totale','<E> heavy', '<E> pi/k'       ],\n",
    "              [kin_antiel_avg  , kin_antiel_avg1, kin_antiel_avg_not1]] \n",
    "\n",
    "print(tabulate(table_antiel, headers='firstrow', tablefmt='fancy_grid'))"
   ]
  },
  {
   "cell_type": "markdown",
   "id": "54ef3507",
   "metadata": {},
   "source": [
    "##### Muonici"
   ]
  },
  {
   "cell_type": "code",
   "execution_count": 545,
   "id": "7d95ddf9",
   "metadata": {},
   "outputs": [],
   "source": [
    "weight_mu1 = weight_mu[ weight_mu == 1]         # other\n",
    "weight_mu_not1 = weight_mu[ weight_mu != 1 ]     # pions/kaons\n",
    "\n",
    "kin_mu_not1=kin_mu[weight_mu!=1]\n",
    "kin_mu1=kin_mu[weight_mu==1]"
   ]
  },
  {
   "cell_type": "code",
   "execution_count": 546,
   "id": "30b86a64",
   "metadata": {},
   "outputs": [],
   "source": [
    "###############################\n",
    "### SETTAGGIO DEI GRAFICI ####\n",
    "##############################\n",
    "\n",
    "# binning\n",
    "binning_mu = 100\n",
    "binning_mu = np.linspace(0,10**4,250)\n",
    "binning_mu = np.logspace(0, 4, 100)\n",
    "\n",
    "# scale\n",
    "x_scale = 'log'\n",
    "y_scale = 'log'                       # log or linear\n",
    "\n",
    "limiti  = False                       # True o False per decidere se usare o meno i limiti settati dall'utente\n",
    "\n",
    "x_down  = 100                         # limiti\n",
    "x_up    = 5000\n",
    "y_down  = max(values_el) * 1/3000    \n",
    "y_up    = max(values_el) * 3\n",
    "\n",
    "grid    = False                       # True or False per avere o no una griglia\n",
    "\n",
    "histtype= 'stepfilled'                # Tipo di istogramma e trama\n",
    "hatch   = '/////'"
   ]
  },
  {
   "cell_type": "code",
   "execution_count": 547,
   "id": "711eceff",
   "metadata": {},
   "outputs": [
    {
     "data": {
      "image/png": "[encoded data removed]",
      "text/plain": [
       "<Figure size 432x288 with 1 Axes>"
      ]
     },
     "metadata": {
      "needs_background": "light"
     },
     "output_type": "display_data"
    }
   ],
   "source": [
    "# ISTORGRAMMI\n",
    "# totale\n",
    "values_mu, bins_mu, patches_mu = plt.hist(kin_mu,\n",
    "         bins = binning_mu, align = 'mid',\n",
    "         weights = weight_mu * norm_el,\n",
    "         color = 'white',\n",
    "         edgecolor = 'grey',\n",
    "         histtype = histtype, stacked = True,\n",
    "         label = 'Tot')\n",
    "\n",
    "# pions/kaons\n",
    "values_not1_mu, bins_not1_mu, patches_not1_mu=plt.hist(kin_mu_not1,\n",
    "         bins = binning_mu, align = 'mid',\n",
    "         weights = weight_mu_not1 * norm_el,\n",
    "         color = 'white',\n",
    "         edgecolor = 'indianred',\n",
    "         histtype = histtype,\n",
    "         hatch = hatch, stacked = True,\n",
    "         label = '$\\pi/K$')\n",
    "\n",
    "# other\n",
    "values1_mu, bins1_mu, patches1_mu = plt.hist(kin_mu1,\n",
    "         bins = binning_mu, align = 'mid',\n",
    "         weights = weight_mu1 * norm_el,\n",
    "         color = 'white',\n",
    "         edgecolor = 'teal',\n",
    "         histtype = histtype,\n",
    "         hatch = hatch, stacked = True,\n",
    "         label = 'Heavy')\n",
    "\n",
    "\n",
    "\n",
    "plt.legend(loc='upper right')\n",
    "plt.xlabel('E [GeV]')\n",
    "\n",
    "if limiti:\n",
    "  plt.xlim([x_down,x_up])\n",
    "  plt.ylim([y_down,y_up])\n",
    "\n",
    "plt.xscale(x_scale)\n",
    "plt.yscale(y_scale)\n",
    "\n",
    "if grid:\n",
    " plt.grid()\n",
    "\n",
    "plt.title('$\\N{greek small letter nu}_\\N{greek small letter mu}$')\n",
    "\n",
    "\n",
    "\n",
    "plt.show()"
   ]
  },
  {
   "cell_type": "code",
   "execution_count": 601,
   "id": "96b71c4d",
   "metadata": {},
   "outputs": [
    {
     "name": "stdout",
     "output_type": "stream",
     "text": [
      "╒═══════════════════╤════════════════════╤════════════════════╕\n",
      "│ Totale            │ Heavy              │ pi/K               │\n",
      "╞═══════════════════╪════════════════════╪════════════════════╡\n",
      "│ 2,156,716,228,158 │ 201,587,301,587    │ 1,955,128,926,571  │\n",
      "├───────────────────┼────────────────────┼────────────────────┤\n",
      "│ <E> totale        │ <E> heavy          │ <E> pi/k           │\n",
      "├───────────────────┼────────────────────┼────────────────────┤\n",
      "│ 143.0158162288471 │ 422.46639748621334 │ 114.20253039533213 │\n",
      "╘═══════════════════╧════════════════════╧════════════════════╛\n"
     ]
    }
   ],
   "source": [
    "############################\n",
    "# ENERGIE CINETICHE MEDIE #\n",
    "###########################\n",
    "\n",
    "kin_mu_avg      = sum(kin_mu  * weight_mu)      /  sum(weight_mu)\n",
    "kin_mu_avg1     = sum(kin_mu1 * weight_mu1)     /  sum(weight_mu1)\n",
    "kin_mu_avg_not1 = sum(kin_mu_not1 * weight_mu_not1)     /  sum(weight_mu_not1)\n",
    "\n",
    "\n",
    "table_mu = [  ['Totale'    ,'Heavy'    , 'pi/K'        ],\n",
    "              [str( \"{:,}\".format(int(values_mu.sum())))   , str( \"{:,}\".format(int(values1_mu.sum()))), str( \"{:,}\".format(int(values_not1_mu.sum())))  ],   \n",
    "              ['<E> totale','<E> heavy', '<E> pi/k'       ],\n",
    "              [kin_mu_avg  , kin_mu_avg1, kin_mu_avg_not1]] \n",
    "\n",
    "print(tabulate(table_mu, headers='firstrow', tablefmt='fancy_grid'))"
   ]
  },
  {
   "cell_type": "markdown",
   "id": "529039c8",
   "metadata": {},
   "source": [
    "##### Anti-muonici"
   ]
  },
  {
   "cell_type": "code",
   "execution_count": 549,
   "id": "68aaf170",
   "metadata": {},
   "outputs": [],
   "source": [
    "weight_antimu1 = weight_antimu[ weight_antimu == 1]         # other\n",
    "weight_antimu_not1 = weight_antimu[ weight_antimu != 1 ]     # pions/kaons\n",
    "\n",
    "kin_antimu_not1=kin_antimu[weight_antimu!=1]\n",
    "kin_antimu1=kin_antimu[weight_antimu==1]"
   ]
  },
  {
   "cell_type": "code",
   "execution_count": 550,
   "id": "cde26af1",
   "metadata": {},
   "outputs": [],
   "source": [
    "###############################\n",
    "### SETTAGGIO DEI GRAFICI ####\n",
    "##############################\n",
    "\n",
    "# binning\n",
    "binning_antimu = 100\n",
    "binning_antimu = np.linspace(0,10**4,250)\n",
    "binning_antimu = np.logspace(0, 4, 100)\n",
    "\n",
    "# scale\n",
    "x_scale = 'log'\n",
    "y_scale = 'log'                       # log or linear\n",
    "\n",
    "limiti  = False                       # True o False per decidere se usare o meno i limiti settati dall'utente\n",
    "\n",
    "x_down  = 100                         # limiti\n",
    "x_up    = 5000\n",
    "y_down  = max(values_el) * 1/3000    \n",
    "y_up    = max(values_el) * 3\n",
    "\n",
    "grid    = False                       # True or False per avere o no una griglia\n",
    "\n",
    "histtype= 'stepfilled'                # Tipo di istogramma e trama\n",
    "hatch   = '/////'"
   ]
  },
  {
   "cell_type": "code",
   "execution_count": 551,
   "id": "62807c9f",
   "metadata": {},
   "outputs": [
    {
     "data": {
      "image/png": "[encoded data removed]",
      "text/plain": [
       "<Figure size 432x288 with 1 Axes>"
      ]
     },
     "metadata": {
      "needs_background": "light"
     },
     "output_type": "display_data"
    }
   ],
   "source": [
    "# ISTORGRAMMI\n",
    "# totale\n",
    "values_antimu, bins_antimu, patches_antimu = plt.hist(kin_antimu,\n",
    "         bins = binning_antimu, align = 'mid',\n",
    "         weights = weight_antimu * norm_el,\n",
    "         color = 'white',\n",
    "         edgecolor = 'grey',\n",
    "         histtype = histtype, stacked = True,\n",
    "         label = 'Tot')\n",
    "\n",
    "# pions/kaons\n",
    "values_not1_antimu, bins_not1_antimu, patches_not1_antimu=plt.hist(kin_antimu_not1,\n",
    "        bins = binning_antimu, align = 'mid',\n",
    "         weights = weight_antimu_not1 * norm_el,\n",
    "         color = 'white',\n",
    "         edgecolor = 'indianred',\n",
    "         histtype = histtype,\n",
    "         hatch = hatch, stacked = True,\n",
    "         label = '$\\pi/K$')\n",
    "\n",
    "# other\n",
    "values1_antimu, bins1_antimu, patches1_antimu = plt.hist(kin_antimu1,\n",
    "         bins = binning_antimu, align = 'mid',\n",
    "         weights = weight_antimu1 * norm_el,\n",
    "         color = 'white',\n",
    "         edgecolor = 'teal',\n",
    "         histtype = histtype,\n",
    "         hatch = hatch, stacked = True,\n",
    "         label = 'Heavy')\n",
    "\n",
    "\n",
    "\n",
    "plt.legend(loc='upper right')\n",
    "plt.xlabel('E [GeV]')\n",
    "\n",
    "if limiti:\n",
    "  plt.xlim([x_down,x_up])\n",
    "  plt.ylim([y_down,y_up])\n",
    "\n",
    "plt.xscale(x_scale)\n",
    "plt.yscale(y_scale)\n",
    "\n",
    "if grid:\n",
    " plt.grid()\n",
    "\n",
    "plt.title('anti-$\\N{greek small letter nu}_\\N{greek small letter mu}$')\n",
    "\n",
    "\n",
    "\n",
    "plt.show()"
   ]
  },
  {
   "cell_type": "code",
   "execution_count": 602,
   "id": "b85d0f1d",
   "metadata": {},
   "outputs": [
    {
     "name": "stdout",
     "output_type": "stream",
     "text": [
      "╒════════════════════╤════════════════════╤════════════════════╕\n",
      "│ Totale             │ Heavy              │ pi/K               │\n",
      "╞════════════════════╪════════════════════╪════════════════════╡\n",
      "│ 1,888,048,609,899  │ 217,460,317,460    │ 1,670,588,292,438  │\n",
      "├────────────────────┼────────────────────┼────────────────────┤\n",
      "│ <E> totale         │ <E> heavy          │ <E> pi/k           │\n",
      "├────────────────────┼────────────────────┼────────────────────┤\n",
      "│ 143.85605619823556 │ 448.90466928365026 │ 104.14790755226169 │\n",
      "╘════════════════════╧════════════════════╧════════════════════╛\n"
     ]
    }
   ],
   "source": [
    "#############################\n",
    "# ENERGIE CINETICHE MEDIE #\n",
    "###########################\n",
    "\n",
    "kin_antimu_avg      = sum(kin_antimu  * weight_antimu)      /  sum(weight_antimu)\n",
    "kin_antimu_avg1     = sum(kin_antimu1 * weight_antimu1)     /  sum(weight_antimu1)\n",
    "kin_antimu_avg_not1 = sum(kin_antimu_not1 * weight_antimu_not1)     /  sum(weight_antimu_not1)\n",
    "\n",
    "\n",
    "table_antimu = [  ['Totale'    ,'Heavy'    , 'pi/K'        ],\n",
    "              [str( \"{:,}\".format(int(values_antimu.sum())))   , str( \"{:,}\".format(int(values1_antimu.sum()))), str( \"{:,}\".format(int(values_not1_antimu.sum())))  ],   \n",
    "              ['<E> totale','<E> heavy', '<E> pi/k'       ],\n",
    "              [kin_antimu_avg  , kin_antimu_avg1, kin_antimu_avg_not1]] \n",
    "\n",
    "print(tabulate(table_antimu, headers='firstrow', tablefmt='fancy_grid'))"
   ]
  },
  {
   "cell_type": "markdown",
   "id": "87525b4f",
   "metadata": {},
   "source": [
    "##### Tau"
   ]
  },
  {
   "cell_type": "code",
   "execution_count": 553,
   "id": "91265c10",
   "metadata": {},
   "outputs": [],
   "source": [
    "weight_tau1 = weight_tau[ weight_tau == 1]         # other\n",
    "weight_tau_not1 = weight_tau[ weight_tau != 1 ]     # pions/kaons\n",
    "\n",
    "kin_tau_not1=kin_tau[weight_tau!=1]\n",
    "kin_tau1=kin_tau[weight_tau==1]"
   ]
  },
  {
   "cell_type": "code",
   "execution_count": 554,
   "id": "c482c74b",
   "metadata": {},
   "outputs": [],
   "source": [
    "###############################\n",
    "### SETTAGGIO DEI GRAFICI ####\n",
    "##############################\n",
    "\n",
    "# binning\n",
    "binning_tau = 100\n",
    "binning_tau = np.linspace(0,10**4,250)\n",
    "binning_tau = np.logspace(0, 4, 100)\n",
    "\n",
    "# scale\n",
    "x_scale = 'log'\n",
    "y_scale = 'log'                       # log or linear\n",
    "\n",
    "limiti  = False                       # True o False per decidere se usare o meno i limiti settati dall'utente\n",
    "\n",
    "x_down  = 100                         # limiti\n",
    "x_up    = 5000\n",
    "y_down  = max(values_el) * 1/3000    \n",
    "y_up    = max(values_el) * 3\n",
    "\n",
    "grid    = False                       # True or False per avere o no una griglia\n",
    "\n",
    "histtype= 'stepfilled'                # Tipo di istogramma e trama\n",
    "hatch   = '/////'"
   ]
  },
  {
   "cell_type": "code",
   "execution_count": 555,
   "id": "ff5717d2",
   "metadata": {},
   "outputs": [
    {
     "data": {
      "image/png": "[encoded data removed]",
      "text/plain": [
       "<Figure size 432x288 with 1 Axes>"
      ]
     },
     "metadata": {
      "needs_background": "light"
     },
     "output_type": "display_data"
    }
   ],
   "source": [
    "# ISTORGRAMMI\n",
    "# totale\n",
    "values_tau, bins_tau, patches_tau = plt.hist(kin_tau,\n",
    "         bins = binning_tau, align = 'mid',\n",
    "         weights = weight_tau * norm_tau,\n",
    "         color = 'white',\n",
    "         edgecolor = 'grey',\n",
    "         histtype = histtype, stacked = True,\n",
    "         label = 'Tot')\n",
    "\n",
    "# pions/kaons\n",
    "values_not1_tau, bins_not1_tau, patches_not1_tau=plt.hist(kin_tau_not1,\n",
    "        bins = binning_tau, align = 'mid',\n",
    "         weights = weight_tau_not1 * norm_tau,\n",
    "         color = 'white',\n",
    "         edgecolor = 'indianred',\n",
    "         histtype = histtype,\n",
    "         hatch = hatch, stacked = True,\n",
    "         label = '$\\pi/K$')\n",
    "\n",
    "# other\n",
    "values1_tau, bins1_tau, patches1_tau = plt.hist(kin_tau1,\n",
    "         bins = binning_tau, align = 'mid',\n",
    "         weights = weight_tau1 * norm_tau,\n",
    "         color = 'white',\n",
    "         edgecolor = 'teal',\n",
    "         histtype = histtype,\n",
    "         hatch = hatch, stacked = True,\n",
    "         label = 'Heavy')\n",
    "\n",
    "\n",
    "\n",
    "plt.legend(loc='upper right')\n",
    "plt.xlabel('E [GeV]')\n",
    "\n",
    "if limiti:\n",
    "  plt.xlim([x_down,x_up])\n",
    "  plt.ylim([y_down,y_up])\n",
    "\n",
    "plt.xscale(x_scale)\n",
    "plt.yscale(y_scale)\n",
    "\n",
    "if grid:\n",
    " plt.grid()\n",
    "\n",
    "plt.title('$\\N{greek small letter nu}_\\N{greek small letter tau}$')\n",
    "\n",
    "\n",
    "\n",
    "plt.show()"
   ]
  },
  {
   "cell_type": "code",
   "execution_count": 606,
   "id": "2f0f8777",
   "metadata": {},
   "outputs": [
    {
     "name": "stdout",
     "output_type": "stream",
     "text": [
      "╒════════════════════╤════════════════╤══════════╕\n",
      "│ Totale             │ Heavy          │ pi/K     │\n",
      "╞════════════════════╪════════════════╪══════════╡\n",
      "│ 15,586,435,756     │ 15,586,435,756 │ 0        │\n",
      "├────────────────────┼────────────────┼──────────┤\n",
      "│ <E> totale         │ <E> heavy      │ <E> pi/k │\n",
      "├────────────────────┼────────────────┼──────────┤\n",
      "│ 411.93121829039967 │                │          │\n",
      "╘════════════════════╧════════════════╧══════════╛\n"
     ]
    }
   ],
   "source": [
    "############################\n",
    "# ENERGIE CINETICHE MEDIE #\n",
    "###########################\n",
    "\n",
    "kin_tau_avg      = sum(kin_tau  * weight_tau)      /  sum(weight_tau)\n",
    "\n",
    "table_tau = [  ['Totale'    ,'Heavy'    , 'pi/K'        ],\n",
    "              [str( \"{:,}\".format(int(values_tau.sum())))   , str( \"{:,}\".format(int(values1_tau.sum()))), str( \"{:,}\".format(int(values_not1_tau.sum())))  ],   \n",
    "              ['<E> totale','<E> heavy', '<E> pi/k'       ],\n",
    "              [kin_tau_avg  , '' ,'' ]] \n",
    "\n",
    "print(tabulate(table_tau, headers='firstrow', tablefmt='fancy_grid'))"
   ]
  },
  {
   "cell_type": "markdown",
   "id": "49c1ef13",
   "metadata": {},
   "source": [
    "##### Anti-tau"
   ]
  },
  {
   "cell_type": "code",
   "execution_count": 557,
   "id": "a6a3ad59",
   "metadata": {},
   "outputs": [],
   "source": [
    "weight_antitau1 = weight_antitau[ weight_antitau == 1]         # other\n",
    "weight_antitau_not1 = weight_antitau[ weight_antitau != 1 ]     # pions/kaons\n",
    "\n",
    "kin_antitau_not1=kin_antitau[weight_antitau!=1]\n",
    "kin_antitau1=kin_antitau[weight_antitau==1]"
   ]
  },
  {
   "cell_type": "code",
   "execution_count": 558,
   "id": "bec77d70",
   "metadata": {},
   "outputs": [],
   "source": [
    "###############################\n",
    "### SETTAGGIO DEI GRAFICI ####\n",
    "##############################\n",
    "\n",
    "# binning\n",
    "binning_antitau = 100\n",
    "binning_antitau = np.linspace(0,10**4,250)\n",
    "binning_antitau = np.logspace(0, 4, 100)\n",
    "\n",
    "# scale\n",
    "x_scale = 'log'\n",
    "y_scale = 'log'                       # log or linear\n",
    "\n",
    "limiti  = False                       # True o False per decidere se usare o meno i limiti settati dall'utente\n",
    "\n",
    "x_down  = 100                         # limiti\n",
    "x_up    = 5000\n",
    "y_down  = max(values_el) * 1/3000    \n",
    "y_up    = max(values_el) * 3\n",
    "\n",
    "grid    = False                       # True or False per avere o no una griglia\n",
    "\n",
    "histtype= 'stepfilled'                # Tipo di istogramma e trama\n",
    "hatch   = '/////'"
   ]
  },
  {
   "cell_type": "code",
   "execution_count": 559,
   "id": "23a8734c",
   "metadata": {},
   "outputs": [
    {
     "data": {
      "image/png": "[encoded data removed]",
      "text/plain": [
       "<Figure size 432x288 with 1 Axes>"
      ]
     },
     "metadata": {
      "needs_background": "light"
     },
     "output_type": "display_data"
    }
   ],
   "source": [
    "# ISTORGRAMMI\n",
    "# totale\n",
    "values_antitau, bins_antitau, patches_antitau = plt.hist(kin_antitau,\n",
    "         bins = binning_antitau, align = 'mid',\n",
    "         weights = weight_antitau * norm_antitau,\n",
    "         color = 'white',\n",
    "         edgecolor = 'grey',\n",
    "         histtype = histtype, stacked = True,\n",
    "         label = 'Tot')\n",
    "\n",
    "# pions/kaons\n",
    "values_not1_antitau, bins_not1_antitau, patches_not1_antitau=plt.hist(kin_antitau_not1,\n",
    "        bins = binning_antitau, align = 'mid',\n",
    "         weights = weight_antitau_not1 * norm_antitau,\n",
    "         color = 'white',\n",
    "         edgecolor = 'indianred',\n",
    "         histtype = histtype,\n",
    "         hatch = hatch, stacked = True,\n",
    "         label = '$\\pi/K$')\n",
    "\n",
    "# other\n",
    "values1_antitau, bins1_antitau, patches1_antitau = plt.hist(kin_antitau1,\n",
    "         bins = binning_antitau, align = 'mid',\n",
    "         weights = weight_antitau1 * norm_antitau,\n",
    "         color = 'white',\n",
    "         edgecolor = 'teal',\n",
    "         histtype = histtype,\n",
    "         hatch = hatch, stacked = True,\n",
    "         label = 'Heavy')\n",
    "\n",
    "\n",
    "\n",
    "plt.legend(loc='upper right')\n",
    "plt.xlabel('E [GeV]')\n",
    "\n",
    "if limiti:\n",
    "  plt.xlim([x_down,x_up])\n",
    "  plt.ylim([y_down,y_up])\n",
    "\n",
    "plt.xscale(x_scale)\n",
    "plt.yscale(y_scale)\n",
    "\n",
    "if grid:\n",
    " plt.grid()\n",
    "\n",
    "plt.title('anti-$\\N{greek small letter nu}_\\N{greek small letter tau}$')\n",
    "\n",
    "\n",
    "\n",
    "plt.show()"
   ]
  },
  {
   "cell_type": "code",
   "execution_count": 605,
   "id": "95cf4528",
   "metadata": {},
   "outputs": [
    {
     "name": "stdout",
     "output_type": "stream",
     "text": [
      "╒═══════════════════╤════════════════╤══════════╕\n",
      "│ Totale            │ Heavy          │ pi/K     │\n",
      "╞═══════════════════╪════════════════╪══════════╡\n",
      "│ 17,515,296,069    │ 17,515,296,069 │ 0        │\n",
      "├───────────────────┼────────────────┼──────────┤\n",
      "│ <E> totale        │ <E> heavy      │ <E> pi/k │\n",
      "├───────────────────┼────────────────┼──────────┤\n",
      "│ 378.8781621291667 │                │          │\n",
      "╘═══════════════════╧════════════════╧══════════╛\n"
     ]
    }
   ],
   "source": [
    "############################\n",
    "# ENERGIE CINETICHE MEDIE #\n",
    "###########################\n",
    "\n",
    "kin_antitau_avg      = sum(kin_antitau  * weight_antitau)      /  sum(weight_antitau)\n",
    "\n",
    "table_antitau = [  ['Totale'    ,'Heavy'    , 'pi/K'        ],\n",
    "              [str( \"{:,}\".format(int(values_antitau.sum())))   , str( \"{:,}\".format(int(values1_antitau.sum()))), str( \"{:,}\".format(int(values_not1_antitau.sum())))  ],   \n",
    "              ['<E> totale','<E> heavy', '<E> pi/k'       ],\n",
    "              [kin_antitau_avg  , '' ,'' ]] \n",
    "\n",
    "print(tabulate(table_antitau, headers='firstrow', tablefmt='fancy_grid'))"
   ]
  },
  {
   "cell_type": "markdown",
   "id": "e818bc87",
   "metadata": {},
   "source": [
    "# Sezioni d'urto"
   ]
  },
  {
   "cell_type": "code",
   "execution_count": 561,
   "id": "1ebf9880",
   "metadata": {},
   "outputs": [],
   "source": [
    "##############################\n",
    "########## FILE #############\n",
    "#############################\n",
    "\n",
    "# sezioni d'urto\n",
    "\n",
    "xsec_el      = uproot.open('nue_xsec.root')\n",
    "xsec_antiel  = uproot.open('anue_xsec.root')\n",
    "xsec_mu      = uproot.open('numu_xsec.root')\n",
    "xsec_antimu  = uproot.open('anumu_xsec.root')\n",
    "xsec_tau     = uproot.open('nutau_xsec.root')\n",
    "xsec_antitau = uproot.open('anutau_xsec.root')"
   ]
  },
  {
   "cell_type": "code",
   "execution_count": 562,
   "id": "906564b1",
   "metadata": {},
   "outputs": [],
   "source": [
    "############################\n",
    "##### CHARGED CURRENT #####\n",
    "###########################\n",
    "\n",
    "#elettronici \n",
    "ccp_el = xsec_el[\"nu_e_W184/dis_cc_p\"]\n",
    "ccn_el = xsec_el[\"nu_e_W184/dis_cc_n\"]\n",
    "\n",
    "#antielettronici\n",
    "ccp_antiel  = xsec_antiel[\"nu_e_bar_W184/dis_cc_p\"]\n",
    "ccn_antiel  = xsec_antiel[\"nu_e_bar_W184/dis_cc_n\"]\n",
    "\n",
    "#muonici\n",
    "ccp_mu = xsec_mu['nu_mu_W184/dis_cc_p']\n",
    "ccn_mu = xsec_mu['nu_mu_W184/dis_cc_n']\n",
    "\n",
    "#antimuonici\n",
    "ccp_antimu = xsec_antimu['nu_mu_bar_W184/dis_cc_p']\n",
    "ccn_antimu = xsec_antimu['nu_mu_bar_W184/dis_cc_n']\n",
    "\n",
    "# tau\n",
    "ccp_tau = xsec_tau['nu_tau_W184/dis_cc_p']\n",
    "ccn_tau = xsec_tau['nu_tau_W184/dis_cc_n']\n",
    "\n",
    "#antitau\n",
    "ccp_antitau = xsec_antitau['nu_tau_bar_W184/dis_cc_p']\n",
    "ccn_antitau = xsec_antitau['nu_tau_bar_W184/dis_cc_n']"
   ]
  },
  {
   "cell_type": "code",
   "execution_count": 563,
   "id": "6753bb24",
   "metadata": {},
   "outputs": [],
   "source": [
    "############################\n",
    "##### NEUTRAL CURRENT #####\n",
    "###########################\n",
    "\n",
    "#elettronici \n",
    "ncp_el = xsec_el[\"nu_e_W184/dis_nc_p\"]\n",
    "ncn_el = xsec_el[\"nu_e_W184/dis_nc_n\"]\n",
    "\n",
    "#antielettronici\n",
    "ncp_antiel  = xsec_antiel[\"nu_e_bar_W184/dis_nc_p\"]\n",
    "ncn_antiel  = xsec_antiel[\"nu_e_bar_W184/dis_nc_n\"]\n",
    "\n",
    "#muonici\n",
    "ncp_mu = xsec_mu['nu_mu_W184/dis_nc_p']\n",
    "ncn_mu = xsec_mu['nu_mu_W184/dis_nc_n']\n",
    "\n",
    "#antimuonici\n",
    "ncp_antimu = xsec_antimu['nu_mu_bar_W184/dis_nc_p']\n",
    "ncn_antimu = xsec_antimu['nu_mu_bar_W184/dis_nc_n']\n",
    "\n",
    "#tau\n",
    "ncp_tau = xsec_tau['nu_tau_W184/dis_nc_p']\n",
    "ncn_tau = xsec_tau['nu_tau_W184/dis_nc_n']\n",
    "\n",
    "#antitau\n",
    "ncp_antitau = xsec_antitau['nu_tau_bar_W184/dis_nc_p']\n",
    "ncn_antitau = xsec_antitau['nu_tau_bar_W184/dis_nc_n']"
   ]
  },
  {
   "cell_type": "markdown",
   "id": "083b8083",
   "metadata": {},
   "source": [
    "##### Energie e sezioni d'urto CC"
   ]
  },
  {
   "cell_type": "code",
   "execution_count": 564,
   "id": "2f3aa7de",
   "metadata": {},
   "outputs": [],
   "source": [
    "#elettronici\n",
    "energies_ccp_el = ccp_el.member(\"fX\")\n",
    "xsecs_ccp_el = ccp_el.member(\"fY\")\n",
    "energies_ccn_el = ccn_el.member(\"fX\")\n",
    "xsecs_ccn_el = ccn_el.member(\"fY\")\n",
    "\n",
    "#antielettronici\n",
    "energies_ccp_antiel = ccp_antiel.member(\"fX\")\n",
    "xsecs_ccp_antiel = ccp_antiel.member(\"fY\")\n",
    "energies_ccn_antiel = ccn_antiel.member(\"fX\")\n",
    "xsecs_ccn_antiel = ccn_antiel.member(\"fY\")\n",
    "\n",
    "# muonici\n",
    "energies_ccp_mu = ccp_mu.member('fX')\n",
    "xsecs_ccp_mu = ccp_mu.member('fY') \n",
    "energies_ccn_mu = ccn_mu.member('fX')\n",
    "xsecs_ccn_mu = ccn_mu.member('fY') \n",
    "\n",
    "# antimuonici\n",
    "energies_ccp_antimu = ccp_antimu.member('fX')\n",
    "xsecs_ccp_antimu = ccp_antimu.member('fY')\n",
    "energies_ccn_antimu = ccn_antimu.member('fX')\n",
    "xsecs_ccn_antimu = ccn_antimu.member('fY') \n",
    "\n",
    "# tauonici\n",
    "energies_ccp_tau = ccp_tau.member('fX')\n",
    "xsecs_ccp_tau = ccp_tau.member('fY') \n",
    "energies_ccn_tau = ccn_tau.member('fX')\n",
    "xsecs_ccn_tau = ccn_tau.member('fY') \n",
    "\n",
    "# antitauonici\n",
    "energies_ccp_antitau = ccp_antitau.member('fX')\n",
    "xsecs_ccp_antitau = ccp_antitau.member('fY')\n",
    "energies_ccn_antitau = ccn_antitau.member('fX')\n",
    "xsecs_ccn_antitau = ccn_antitau.member('fY') "
   ]
  },
  {
   "cell_type": "markdown",
   "id": "5232c874",
   "metadata": {},
   "source": [
    "##### Energie e sezioni d'urto NC"
   ]
  },
  {
   "cell_type": "code",
   "execution_count": 565,
   "id": "096b20d8",
   "metadata": {},
   "outputs": [],
   "source": [
    "#elettronici\n",
    "energies_ncp_el = ncp_el.member(\"fX\")\n",
    "xsecs_ncp_el = ncp_el.member(\"fY\")\n",
    "energies_ncn_el = ncn_el.member(\"fX\")\n",
    "xsecs_ncn_el = ncn_el.member(\"fY\")\n",
    "\n",
    "#antielettronici\n",
    "energies_ncp_antiel = ncp_antiel.member(\"fX\")\n",
    "xsecs_ncp_antiel = ncp_antiel.member(\"fY\")\n",
    "energies_ncn_antiel = ncn_antiel.member(\"fX\")\n",
    "xsecs_ncn_antiel = ncn_antiel.member(\"fY\")\n",
    "\n",
    "# muonici\n",
    "energies_ncp_mu = ncp_mu.member('fX')\n",
    "xsecs_ncp_mu = ncp_mu.member('fY') \n",
    "energies_ncn_mu = ncn_mu.member('fX')\n",
    "xsecs_ncn_mu = ncn_mu.member('fY') \n",
    "\n",
    "# antimuonici\n",
    "energies_ncp_antimu = ncp_antimu.member('fX')\n",
    "xsecs_ncp_antimu = ncp_antimu.member('fY')\n",
    "energies_ncn_antimu = ncn_antimu.member('fX')\n",
    "xsecs_ncn_antimu = ncn_antimu.member('fY') \n",
    "\n",
    "# tauonici\n",
    "energies_ncp_tau = ncp_tau.member('fX')\n",
    "xsecs_ncp_tau = ncp_tau.member('fY') \n",
    "energies_ncn_tau = ncn_tau.member('fX')\n",
    "xsecs_ncn_tau = ncn_tau.member('fY') \n",
    "\n",
    "# antitauonici\n",
    "energies_ncp_antitau = ncp_antitau.member('fX')\n",
    "xsecs_ncp_antitau = ncp_antitau.member('fY')\n",
    "energies_ncn_antitau = ncn_antitau.member('fX')\n",
    "xsecs_ncn_antitau = ncn_antitau.member('fY') "
   ]
  },
  {
   "cell_type": "markdown",
   "id": "ef97c933",
   "metadata": {},
   "source": [
    "### Interpolazione"
   ]
  },
  {
   "cell_type": "code",
   "execution_count": 566,
   "id": "2f898e66",
   "metadata": {},
   "outputs": [],
   "source": [
    "#e e anti-e\n",
    "int_ccp_antiel = np.interp(binning_antiel, energies_ccp_antiel, xsecs_ccp_antiel * 10)\n",
    "int_ccp_el     = np.interp(binning_el, energies_ccp_el, xsecs_ccp_el * 10)\n",
    "int_ccn_antiel = np.interp(binning_antiel, energies_ccn_antiel, xsecs_ccn_antiel * 10)\n",
    "int_ccn_el     = np.interp(binning_el, energies_ccn_el, xsecs_ccn_el * 10)\n",
    "\n",
    "#mu e anti-mu\n",
    "int_ccp_antimu = np.interp(binning_antimu, energies_ccp_antimu, xsecs_ccp_antimu * 10)\n",
    "int_ccp_mu     = np.interp(binning_mu, energies_ccp_mu, xsecs_ccp_mu * 10)\n",
    "int_ccn_antimu = np.interp(binning_antimu, energies_ccn_antimu, xsecs_ccn_antimu * 10)\n",
    "int_ccn_mu     = np.interp(binning_mu, energies_ccn_mu, xsecs_ccn_mu * 10)\n",
    "\n",
    "#tau e anti-tau\n",
    "int_ccp_antitau = np.interp(binning_antitau, energies_ccp_antitau, xsecs_ccp_antitau * 10)\n",
    "int_ccp_tau     = np.interp(binning_tau, energies_ccp_tau, xsecs_ccp_tau * 10)\n",
    "int_ccn_antitau = np.interp(binning_antitau, energies_ccn_antitau, xsecs_ccn_antitau * 10)\n",
    "int_ccn_tau     = np.interp(binning_tau, energies_ccn_tau, xsecs_ccn_tau * 10)\n",
    "\n",
    "# moltiplico le sezioni d'urto per 10 poiché le voglio in fb. Ntau file sono in 10^-38 cm^2 = 10^-14 bn = 10 fb"
   ]
  },
  {
   "cell_type": "code",
   "execution_count": 567,
   "id": "25bebf3f",
   "metadata": {},
   "outputs": [],
   "source": [
    "#e e anti-e\n",
    "int_ncp_antiel = np.interp(binning_antiel, energies_ncp_antiel, xsecs_ncp_antiel * 10)\n",
    "int_ncp_el     = np.interp(binning_el, energies_ncp_el, xsecs_ncp_el * 10)\n",
    "int_ncn_antiel = np.interp(binning_antiel, energies_ncn_antiel, xsecs_ncn_antiel * 10)\n",
    "int_ncn_el     = np.interp(binning_el, energies_ncn_el, xsecs_ncn_el * 10)\n",
    "\n",
    "#mu e anti-mu\n",
    "int_ncp_antimu = np.interp(binning_antimu, energies_ncp_antimu, xsecs_ncp_antimu * 10)\n",
    "int_ncp_mu     = np.interp(binning_mu, energies_ncp_mu, xsecs_ncp_mu * 10)\n",
    "int_ncn_antimu = np.interp(binning_antimu, energies_ncn_antimu, xsecs_ncn_antimu * 10)\n",
    "int_ncn_mu     = np.interp(binning_mu, energies_ncn_mu, xsecs_ncn_mu * 10)\n",
    "\n",
    "#tau e anti-tau\n",
    "int_ncp_antitau = np.interp(binning_antitau, energies_ncp_antitau, xsecs_ncp_antitau * 10)\n",
    "int_ncp_tau     = np.interp(binning_tau, energies_ncp_tau, xsecs_ncp_tau * 10)\n",
    "int_ncn_antitau = np.interp(binning_antitau, energies_ncn_antitau, xsecs_ncn_antitau * 10)\n",
    "int_ncn_tau     = np.interp(binning_tau, energies_ncn_tau, xsecs_ncn_tau * 10)"
   ]
  },
  {
   "cell_type": "markdown",
   "id": "888c3095",
   "metadata": {},
   "source": [
    "# Convoluzioni"
   ]
  },
  {
   "cell_type": "markdown",
   "id": "4ac482b9",
   "metadata": {},
   "source": [
    "### Dagli spettri alle luminosità"
   ]
  },
  {
   "cell_type": "code",
   "execution_count": 568,
   "id": "7f43b93c",
   "metadata": {},
   "outputs": [],
   "source": [
    "################################\n",
    "######## coefficiente #########\n",
    "##############################à\n",
    "\n",
    "# length = 295 mm = 29,5 cm\n",
    "# Area = 1474.56 cm^2 = 1474.56 * 10**24 fb\n",
    "# density = 19,3 g/cm^3\n",
    "# L_int = [Spettro/(8*10**13)*]/*(1/1568.16)*(29.5)*(6.022*10**23)\n",
    "# A = 184\n",
    "# Mass = 800 kg\n",
    "\n",
    "const_el = norm_el * 800 * (1/184) * (1/1474.56) * (6.022 * 10**23) *(10**-39) * 1000\n",
    "const_antiel = norm_antiel * 800 * (1/184) * (1/1474.56) * (6.022 * 10**23) *(10**-39) * 1000\n",
    "const_mu = norm_mu * 800 * (1/184) * (1/1474.56) * (6.022 * 10**23) *(10**-39) * 1000\n",
    "const_antimu = norm_antimu * 800 * (1/184) * (1/1474.56) * (6.022 * 10**23) *(10**-39) * 1000\n",
    "const_tau = norm_tau * 800 * (1/184) * (1/1474.56) * (6.022 * 10**23) *(10**-39) * 1000\n",
    "const_antitau = norm_antitau * 800 * (1/184) * (1/1474.56) * (6.022 * 10**23) *(10**-39) * 1000\n",
    "\n",
    "#################################\n",
    "### istogrammi luminosità  #####\n",
    "################################\n",
    "\n",
    "logspace_el= (binning_el[0:-1] + binning_el[1:])/2\n",
    "logspace_antiel= (binning_antiel[0:-1] + binning_antiel[1:])/2\n",
    "logspace_mu= (binning_mu[0:-1] + binning_mu[1:])/2\n",
    "logspace_antimu= (binning_antimu[0:-1] + binning_antimu[1:])/2\n",
    "logspace_tau= (binning_tau[0:-1] + binning_tau[1:])/2\n",
    "logspace_antitau= (binning_antitau[0:-1] + binning_antitau[1:])/2\n",
    "\n",
    "\n",
    "#elettronici\n",
    "n_el, bins_el           = np.histogram(np.array(kin_el)     , logspace_el,  weights=np.array(weight_el      * const_el))\n",
    "n_el1, bins_el1         = np.histogram(np.array(kin_el1)    , logspace_el,  weights=np.array(weight_el1     * const_el))\n",
    "n_el_not1, bins_el_not1 = np.histogram(np.array(kin_el_not1), logspace_el,  weights=np.array(weight_el_not1 * const_el))\n",
    "\n",
    "#antielettronici\n",
    "n_antiel, bins_antiel           = np.histogram(np.array(kin_antiel)     , logspace_antiel,  weights=np.array(weight_antiel      * const_antiel))\n",
    "n_antiel1, bins_antiel1         = np.histogram(np.array(kin_antiel1)    , logspace_antiel,  weights=np.array(weight_antiel1     * const_antiel))\n",
    "n_antiel_not1, bins_antiel_not1 = np.histogram(np.array(kin_antiel_not1), logspace_antiel,  weights=np.array(weight_antiel_not1 * const_antiel))\n",
    "\n",
    "#muonici\n",
    "n_mu, bins_mu           = np.histogram(np.array(kin_mu)     , logspace_mu,  weights=np.array(weight_mu      * const_mu))\n",
    "n_mu1, bins_mu1         = np.histogram(np.array(kin_mu1)    , logspace_mu,  weights=np.array(weight_mu1     * const_mu))\n",
    "n_mu_not1, bins_mu_not1 = np.histogram(np.array(kin_mu_not1), logspace_mu,  weights=np.array(weight_mu_not1 * const_mu))\n",
    "\n",
    "#antimuonici\n",
    "n_antimu, bins_antimu           = np.histogram(np.array(kin_antimu)     , logspace_antimu,  weights=np.array(weight_antimu      * const_antimu))\n",
    "n_antimu1, bins_antimu1         = np.histogram(np.array(kin_antimu1)    , logspace_antimu,  weights=np.array(weight_antimu1     * const_antimu))\n",
    "n_antimu_not1, bins_antimu_not1 = np.histogram(np.array(kin_antimu_not1), logspace_antimu,  weights=np.array(weight_antimu_not1 * const_antimu))\n",
    "\n",
    "#tauonici\n",
    "n_tau, bins_tau           = np.histogram(np.array(kin_tau)     , logspace_tau,  weights=np.array(weight_tau      * const_tau))\n",
    "n_tau1, bins_tau1         = np.histogram(np.array(kin_tau1)    , logspace_tau,  weights=np.array(weight_tau1     * const_tau))\n",
    "n_tau_not1, bins_tau_not1 = np.histogram(np.array(kin_tau_not1), logspace_tau,  weights=np.array(weight_tau_not1 * const_tau))\n",
    "\n",
    "#antitauonici\n",
    "n_antitau, bins_antitau           = np.histogram(np.array(kin_antitau)     , logspace_antitau,  weights=np.array(weight_antitau      * const_antitau))\n",
    "n_antitau1, bins_antitau1         = np.histogram(np.array(kin_antitau1)    , logspace_antitau,  weights=np.array(weight_antitau1     * const_antitau))\n",
    "n_antitau_not1, bins_antitau_not1 = np.histogram(np.array(kin_antitau_not1), logspace_antitau,  weights=np.array(weight_antitau_not1 * const_antitau))"
   ]
  },
  {
   "cell_type": "code",
   "execution_count": 569,
   "id": "436360b9",
   "metadata": {},
   "outputs": [],
   "source": [
    "def convolve(xsec, values): \n",
    "    print((np.array(xsec) * np.array(values)).sum())\n",
    "    return (np.array(xsec) * np.array(values))"
   ]
  },
  {
   "cell_type": "markdown",
   "id": "e0ae2558",
   "metadata": {},
   "source": [
    "##### Elettronici ----------------------------------------------------------------"
   ]
  },
  {
   "cell_type": "code",
   "execution_count": 623,
   "id": "7d93942c",
   "metadata": {},
   "outputs": [
    {
     "name": "stdout",
     "output_type": "stream",
     "text": [
      "---------------- CC ν_e ---------------------\n",
      "\n",
      "Totale interazioni con protoni\n",
      "55.054482854030084\n",
      "\n",
      "Totale interazioni con neturoni\n",
      "154.1646885832644\n",
      "\n",
      "Heavy interazioni con protoni\n",
      "49.337059557823736\n",
      "\n",
      "Heavy interazioni con neturoni\n",
      "137.82018427783896\n",
      "\n",
      "π/K interazioni con protoni\n",
      "5.717423296206208\n",
      "\n",
      "π/K interazioni con neturoni\n",
      "16.344504305425026\n",
      "\n",
      "\n",
      "\n",
      "TOTALE CC DIS 209.21917143729448\n"
     ]
    },
    {
     "data": {
      "image/png": "[encoded data removed]",
      "text/plain": [
       "<Figure size 432x288 with 1 Axes>"
      ]
     },
     "metadata": {
      "needs_background": "light"
     },
     "output_type": "display_data"
    },
    {
     "name": "stdout",
     "output_type": "stream",
     "text": [
      "energia media CC neutrini elonici 806.237800751016\n"
     ]
    }
   ],
   "source": [
    "print('---------------- CC \\N{greek small letter nu}_e ---------------------')\n",
    "\n",
    "#totale\n",
    "print('\\nTotale interazioni con protoni')\n",
    "CC_conv_el_p = convolve(int_ccp_el[1: -1], n_el)\n",
    "\n",
    "print('\\nTotale interazioni con neturoni')\n",
    "CC_conv_el_n = convolve(int_ccn_el[1: -1], n_el)\n",
    "\n",
    "#heavy\n",
    "print('\\nHeavy interazioni con protoni')\n",
    "CC_conv_el_p1 = convolve(int_ccp_el[1: -1], n_el1)\n",
    "\n",
    "print('\\nHeavy interazioni con neturoni')\n",
    "CC_conv_el_n1 = convolve(int_ccn_el[1: -1], n_el1)\n",
    "\n",
    "\n",
    "# pioni/kaoni\n",
    "print('\\n\\N{greek small letter pi}/K interazioni con protoni') \n",
    "CC_conv_el_p_not1 = convolve(int_ccp_el[1: -1], n_el_not1)\n",
    "\n",
    "print('\\n\\N{greek small letter pi}/K interazioni con neturoni')\n",
    "CC_conv_el_n_not1 = convolve(int_ccn_el[1: -1], n_el_not1)\n",
    "\n",
    "CC_TOT_EL = CC_conv_el_p.sum()+CC_conv_el_n.sum()\n",
    "print('\\n\\n\\nTOTALE CC DIS',CC_TOT_EL)\n",
    "\n",
    "\n",
    "\n",
    "plt.plot(binning_el[1: -1], \n",
    "         CC_conv_el_p + CC_conv_el_n,                 \n",
    "         drawstyle = 'steps-mid', color = 'grey', linestyle = '-', linewidth=1.39,\n",
    "         label = '$\\N{greek small letter nu}_e$ tot')\n",
    "\n",
    "\n",
    "plt.plot(binning_el[1: -1], \n",
    "         CC_conv_el_p1 + CC_conv_el_n1,                \n",
    "         drawstyle = 'steps-mid', color = 'steelblue', linestyle = '-', linewidth=1.39,\n",
    "         label = '$\\N{greek small letter nu}_e$ heavy')\n",
    "\n",
    "\n",
    "plt.plot(binning_el[1: -1], \n",
    "         CC_conv_el_p_not1 + CC_conv_el_n_not1,                 \n",
    "         drawstyle = 'steps-mid', color = 'firebrick', linestyle = '-', linewidth=1.39,\n",
    "         label = '$\\N{greek small letter nu}_e$ $\\pi$/K')\n",
    "\n",
    "plt.xlabel('E [Gev]')\n",
    "plt.xlim([1, 5000])\n",
    "plt.legend()\n",
    "plt.xscale('log')\n",
    "plt.yscale('log')\n",
    "plt.grid('True',axis='x',which='both')\n",
    "plt.title('CC DIS interacting neutrinos')\n",
    "plt.show()\n",
    "\n",
    "CC_kin_el_mean = ( binning_el[1: -1] * (CC_conv_el_p + CC_conv_el_n) ).sum()/(CC_conv_el_p + CC_conv_el_n).sum()\n",
    "print('energia media CC neutrini elonici', CC_kin_el_mean)"
   ]
  },
  {
   "cell_type": "code",
   "execution_count": 624,
   "id": "66910d62",
   "metadata": {},
   "outputs": [
    {
     "name": "stdout",
     "output_type": "stream",
     "text": [
      "---------------- NC ν_e ---------------------\n",
      "\n",
      "Totale interazioni con protoni\n",
      "26.403476507398473\n",
      "\n",
      "Totale interazioni con neturoni\n",
      "43.29816392154065\n",
      "\n",
      "Heavy interazioni con protoni\n",
      "23.68398829631833\n",
      "\n",
      "Heavy interazioni con neturoni\n",
      "38.81878189005988\n",
      "\n",
      "π/K interazioni con protoni\n",
      "2.7194882110800735\n",
      "\n",
      "π/K interazioni con neturoni\n",
      "4.479382031480657\n",
      "\n",
      "\n",
      "\n",
      "TOTALE NC DIS 69.55225276591143\n"
     ]
    },
    {
     "data": {
      "image/png": "[encoded data removed]",
      "text/plain": [
       "<Figure size 432x288 with 1 Axes>"
      ]
     },
     "metadata": {
      "needs_background": "light"
     },
     "output_type": "display_data"
    },
    {
     "name": "stdout",
     "output_type": "stream",
     "text": [
      "energia media NC neutrini elonici 819.1020936577862\n"
     ]
    }
   ],
   "source": [
    "print('---------------- NC \\N{greek small letter nu}_e ---------------------')\n",
    "\n",
    "#totale\n",
    "print('\\nTotale interazioni con protoni')\n",
    "NC_conv_el_p = convolve(int_ncp_el[1: -1], n_el)\n",
    "\n",
    "print('\\nTotale interazioni con neturoni')\n",
    "NC_conv_el_n = convolve(int_ncn_el[1: -1], n_el)\n",
    "\n",
    "#heavy\n",
    "print('\\nHeavy interazioni con protoni')\n",
    "NC_conv_el_p1 = convolve(int_ncp_el[1: -1], n_el1)\n",
    "\n",
    "print('\\nHeavy interazioni con neturoni')\n",
    "NC_conv_el_n1 = convolve(int_ncn_el[1: -1], n_el1)\n",
    "\n",
    "\n",
    "# pioni/kaoni\n",
    "print('\\n\\N{greek small letter pi}/K interazioni con protoni') \n",
    "NC_conv_el_p_not1 = convolve(int_ncp_el[1: -1], n_el_not1)\n",
    "\n",
    "print('\\n\\N{greek small letter pi}/K interazioni con neturoni')\n",
    "NC_conv_el_n_not1 = convolve(int_ncn_el[1: -1], n_el_not1)\n",
    "\n",
    "NC_TOT_EL = nc_conv_el_p.sum()+nc_conv_el_n.sum()\n",
    "print('\\n\\n\\nTOTALE NC DIS',NC_TOT_EL)\n",
    "\n",
    "\n",
    "plt.plot(binning_el[1: -1], \n",
    "         NC_conv_el_p + NC_conv_el_n,                 \n",
    "         drawstyle = 'steps-mid', color = 'grey', linestyle = '-', linewidth=1.39,\n",
    "         label = '$\\N{greek small letter nu}_e$ tot')\n",
    "\n",
    "\n",
    "plt.plot(binning_el[1: -1], \n",
    "         NC_conv_el_p1 + NC_conv_el_n1,                \n",
    "         drawstyle = 'steps-mid', color = 'steelblue', linestyle = '-', linewidth=1.39,\n",
    "         label = '$\\N{greek small letter nu}_e$ heavy')\n",
    "\n",
    "\n",
    "plt.plot(binning_el[1: -1], \n",
    "         NC_conv_el_p_not1 + NC_conv_el_n_not1,                 \n",
    "         drawstyle = 'steps-mid', color = 'firebrick', linestyle = '-', linewidth=1.39,\n",
    "         label = '$\\N{greek small letter nu}_e$ $\\pi$/K')\n",
    "\n",
    "plt.xlabel('E [Gev]')\n",
    "plt.xlim([1, 5000])\n",
    "plt.legend()\n",
    "plt.xscale('log')\n",
    "plt.yscale('log')\n",
    "plt.grid('True',axis='x',which='both')\n",
    "plt.title('NC DIS interacting neutrinos')\n",
    "plt.show()\n",
    "\n",
    "NC_kin_el_mean = ( binning_el[1: -1] * (NC_conv_el_p + NC_conv_el_n) ).sum()/(NC_conv_el_p + NC_conv_el_n).sum()\n",
    "print('energia media NC neutrini elonici', NC_kin_el_mean)"
   ]
  },
  {
   "cell_type": "markdown",
   "id": "27b94431",
   "metadata": {},
   "source": [
    "##### Anti-elettronici ----------------------------------------------------------------------"
   ]
  },
  {
   "cell_type": "code",
   "execution_count": 625,
   "id": "6a78a321",
   "metadata": {},
   "outputs": [
    {
     "name": "stdout",
     "output_type": "stream",
     "text": [
      "---------------- CC anti-ν_e ---------------------\n",
      "\n",
      "Totale interazioni con protoni\n",
      "54.96726533958784\n",
      "\n",
      "Totale interazioni con neturoni\n",
      "48.602844455693656\n",
      "\n",
      "Heavy interazioni con protoni\n",
      "50.24481097925744\n",
      "\n",
      "Heavy interazioni con neturoni\n",
      "44.51924355318609\n",
      "\n",
      "π/K interazioni con protoni\n",
      "4.722454360331046\n",
      "\n",
      "π/K interazioni con neturoni\n",
      "4.083600902508161\n",
      "\n",
      "\n",
      "\n",
      "TOTALE CC DIS 103.5701097952815\n"
     ]
    },
    {
     "data": {
      "image/png": "[encoded data removed]",
      "text/plain": [
       "<Figure size 432x288 with 1 Axes>"
      ]
     },
     "metadata": {
      "needs_background": "light"
     },
     "output_type": "display_data"
    },
    {
     "name": "stdout",
     "output_type": "stream",
     "text": [
      "energia media CC neutrini antielonici 795.5657991484137\n"
     ]
    }
   ],
   "source": [
    "print('---------------- CC anti-\\N{greek small letter nu}_e ---------------------')\n",
    "\n",
    "#totale\n",
    "print('\\nTotale interazioni con protoni')\n",
    "CC_conv_antiel_p = convolve(int_ccp_antiel[1: -1], n_antiel)\n",
    "\n",
    "print('\\nTotale interazioni con neturoni')\n",
    "CC_conv_antiel_n = convolve(int_ccn_antiel[1: -1], n_antiel)\n",
    "\n",
    "#heavy\n",
    "print('\\nHeavy interazioni con protoni')\n",
    "CC_conv_antiel_p1 = convolve(int_ccp_antiel[1: -1], n_antiel1)\n",
    "\n",
    "print('\\nHeavy interazioni con neturoni')\n",
    "CC_conv_antiel_n1 = convolve(int_ccn_antiel[1: -1], n_antiel1)\n",
    "\n",
    "\n",
    "# pioni/kaoni\n",
    "print('\\n\\N{greek small letter pi}/K interazioni con protoni') \n",
    "CC_conv_antiel_p_not1 = convolve(int_ccp_antiel[1: -1], n_antiel_not1)\n",
    "\n",
    "print('\\n\\N{greek small letter pi}/K interazioni con neturoni')\n",
    "CC_conv_antiel_n_not1 = convolve(int_ccn_antiel[1: -1], n_antiel_not1)\n",
    "\n",
    "CC_TOT_ANTIEL = CC_conv_antiel_p.sum()+CC_conv_antiel_n.sum()\n",
    "print('\\n\\n\\nTOTALE CC DIS',CC_TOT_ANTIEL)\n",
    "\n",
    "\n",
    "\n",
    "plt.plot(binning_antiel[1: -1], \n",
    "         CC_conv_antiel_p + CC_conv_antiel_n,                 \n",
    "         drawstyle = 'steps-mid', color = 'grey', linestyle = '-', linewidth=1.39,\n",
    "         label = '$\\N{greek small letter nu}_e$ tot')\n",
    "\n",
    "\n",
    "plt.plot(binning_antiel[1: -1], \n",
    "         CC_conv_antiel_p1 + CC_conv_antiel_n1,                \n",
    "         drawstyle = 'steps-mid', color = 'steelblue', linestyle = '-', linewidth=1.39,\n",
    "         label = '$\\N{greek small letter nu}_e$ heavy')\n",
    "\n",
    "\n",
    "plt.plot(binning_antiel[1: -1], \n",
    "         CC_conv_antiel_p_not1 + CC_conv_antiel_n_not1,                 \n",
    "         drawstyle = 'steps-mid', color = 'firebrick', linestyle = '-', linewidth=1.39,\n",
    "         label = '$\\N{greek small letter nu}_e$ $\\pi$/K')\n",
    "\n",
    "plt.xlabel('E [Gev]')\n",
    "plt.xlim([1, 5000])\n",
    "plt.legend()\n",
    "plt.xscale('log')\n",
    "plt.yscale('log')\n",
    "plt.grid('True',axis='x',which='both')\n",
    "plt.title('CC DIS interacting neutrinos')\n",
    "plt.show()\n",
    "\n",
    "CC_kin_antiel_mean = ( binning_antiel[1: -1] * (CC_conv_antiel_p + CC_conv_antiel_n) ).sum()/(CC_conv_antiel_p + CC_conv_antiel_n).sum()\n",
    "print('energia media CC neutrini antielonici', CC_kin_antiel_mean)"
   ]
  },
  {
   "cell_type": "code",
   "execution_count": 626,
   "id": "bdd8422c",
   "metadata": {},
   "outputs": [
    {
     "name": "stdout",
     "output_type": "stream",
     "text": [
      "---------------- NC anti-ν_e ---------------------\n",
      "\n",
      "Totale interazioni con protoni\n",
      "17.277554744932033\n",
      "\n",
      "Totale interazioni con neturoni\n",
      "25.74082060496051\n",
      "\n",
      "Heavy interazioni con protoni\n",
      "15.823101917534231\n",
      "\n",
      "Heavy interazioni con neturoni\n",
      "23.5745817813864\n",
      "\n",
      "π/K interazioni con protoni\n",
      "1.4544528273980097\n",
      "\n",
      "π/K interazioni con neturoni\n",
      "2.16623882357442\n",
      "\n",
      "\n",
      "\n",
      "TOTALE NC DIS 43.018375349892544\n"
     ]
    },
    {
     "data": {
      "image/png": "[encoded data removed]",
      "text/plain": [
       "<Figure size 432x288 with 1 Axes>"
      ]
     },
     "metadata": {
      "needs_background": "light"
     },
     "output_type": "display_data"
    },
    {
     "name": "stdout",
     "output_type": "stream",
     "text": [
      "energia media NC neutrini antielonici 800.3365012958984\n"
     ]
    }
   ],
   "source": [
    "print('---------------- NC anti-\\N{greek small letter nu}_e ---------------------')\n",
    "\n",
    "#totale\n",
    "print('\\nTotale interazioni con protoni')\n",
    "NC_conv_antiel_p = convolve(int_ncp_antiel[1: -1], n_antiel)\n",
    "\n",
    "print('\\nTotale interazioni con neturoni')\n",
    "NC_conv_antiel_n = convolve(int_ncn_antiel[1: -1], n_antiel)\n",
    "\n",
    "#heavy\n",
    "print('\\nHeavy interazioni con protoni')\n",
    "NC_conv_antiel_p1 = convolve(int_ncp_antiel[1: -1], n_antiel1)\n",
    "\n",
    "print('\\nHeavy interazioni con neturoni')\n",
    "NC_conv_antiel_n1 = convolve(int_ncn_antiel[1: -1], n_antiel1)\n",
    "\n",
    "\n",
    "# pioni/kaoni\n",
    "print('\\n\\N{greek small letter pi}/K interazioni con protoni') \n",
    "NC_conv_antiel_p_not1 = convolve(int_ncp_antiel[1: -1], n_antiel_not1)\n",
    "\n",
    "print('\\n\\N{greek small letter pi}/K interazioni con neturoni')\n",
    "NC_conv_antiel_n_not1 = convolve(int_ncn_antiel[1: -1], n_antiel_not1)\n",
    "\n",
    "NC_TOT_ANTIEL = NC_conv_antiel_p.sum()+NC_conv_antiel_n.sum()\n",
    "print('\\n\\n\\nTOTALE NC DIS',NC_TOT_ANTIEL)\n",
    "\n",
    "\n",
    "plt.plot(binning_antiel[1: -1], \n",
    "         NC_conv_antiel_p + NC_conv_antiel_n,                 \n",
    "         drawstyle = 'steps-mid', color = 'grey', linestyle = '-', linewidth=1.39,\n",
    "         label = '$\\N{greek small letter nu}_e$ tot')\n",
    "\n",
    "\n",
    "plt.plot(binning_antiel[1: -1], \n",
    "         NC_conv_antiel_p1 + NC_conv_antiel_n1,                \n",
    "         drawstyle = 'steps-mid', color = 'steelblue', linestyle = '-', linewidth=1.39,\n",
    "         label = '$\\N{greek small letter nu}_e$ heavy')\n",
    "\n",
    "\n",
    "plt.plot(binning_antiel[1: -1], \n",
    "         NC_conv_antiel_p_not1 + NC_conv_antiel_n_not1,                 \n",
    "         drawstyle = 'steps-mid', color = 'firebrick', linestyle = '-', linewidth=1.39,\n",
    "         label = '$\\N{greek small letter nu}_e$ $\\pi$/K')\n",
    "\n",
    "plt.xlabel('E [Gev]')\n",
    "plt.xlim([1, 5000])\n",
    "plt.legend()\n",
    "plt.xscale('log')\n",
    "plt.yscale('log')\n",
    "plt.grid('True',axis='x',which='both')\n",
    "plt.title('NC DIS interacting neutrinos')\n",
    "plt.show()\n",
    "\n",
    "NC_kin_antiel_mean = ( binning_antiel[1: -1] * (NC_conv_antiel_p + NC_conv_antiel_n) ).sum()/(NC_conv_antiel_p + NC_conv_antiel_n).sum()\n",
    "print('energia media NC neutrini antielonici', NC_kin_antiel_mean)"
   ]
  },
  {
   "cell_type": "markdown",
   "id": "de26efcb",
   "metadata": {},
   "source": [
    "##### Muonici -----------------------------------------------------------------------"
   ]
  },
  {
   "cell_type": "code",
   "execution_count": 627,
   "id": "f09a3067",
   "metadata": {},
   "outputs": [
    {
     "name": "stdout",
     "output_type": "stream",
     "text": [
      "---------------- CC ν_μ ---------------------\n",
      "\n",
      "Totale interazioni con protoni\n",
      "163.70110821739286\n",
      "\n",
      "Totale interazioni con neturoni\n",
      "465.8509408530955\n",
      "\n",
      "Heavy interazioni con protoni\n",
      "44.507590245774246\n",
      "\n",
      "Heavy interazioni con neturoni\n",
      "124.83244790389162\n",
      "\n",
      "π/K interazioni con protoni\n",
      "119.19351797162061\n",
      "\n",
      "π/K interazioni con neturoni\n",
      "341.01849294920925\n",
      "\n",
      "\n",
      "\n",
      "TOTALE CC DIS 629.5520490704884\n"
     ]
    },
    {
     "data": {
      "image/png": "[encoded data removed]",
      "text/plain": [
       "<Figure size 432x288 with 1 Axes>"
      ]
     },
     "metadata": {
      "needs_background": "light"
     },
     "output_type": "display_data"
    },
    {
     "name": "stdout",
     "output_type": "stream",
     "text": [
      "energia media CC neutrini muonici 446.27159875380227\n"
     ]
    }
   ],
   "source": [
    "print('---------------- CC \\N{greek small letter nu}_\\N{greek small letter mu} ---------------------')\n",
    "\n",
    "#totale\n",
    "print('\\nTotale interazioni con protoni')\n",
    "CC_conv_mu_p = convolve(int_ccp_mu[1: -1], n_mu)\n",
    "\n",
    "print('\\nTotale interazioni con neturoni')\n",
    "CC_conv_mu_n = convolve(int_ccn_mu[1: -1], n_mu)\n",
    "\n",
    "#heavy\n",
    "print('\\nHeavy interazioni con protoni')\n",
    "CC_conv_mu_p1 = convolve(int_ccp_mu[1: -1], n_mu1)\n",
    "\n",
    "print('\\nHeavy interazioni con neturoni')\n",
    "CC_conv_mu_n1 = convolve(int_ccn_mu[1: -1], n_mu1)\n",
    "\n",
    "\n",
    "# pioni/kaoni\n",
    "print('\\n\\N{greek small letter pi}/K interazioni con protoni') \n",
    "CC_conv_mu_p_not1 = convolve(int_ccp_mu[1: -1], n_mu_not1)\n",
    "\n",
    "print('\\n\\N{greek small letter pi}/K interazioni con neturoni')\n",
    "CC_conv_mu_n_not1 = convolve(int_ccn_mu[1: -1], n_mu_not1)\n",
    "\n",
    "CC_TOT_MU = CC_conv_mu_p.sum()+CC_conv_mu_n.sum()\n",
    "print('\\n\\n\\nTOTALE CC DIS',CC_TOT_MU)\n",
    "\n",
    "\n",
    "\n",
    "plt.plot(binning_mu[1: -1], \n",
    "         CC_conv_mu_p + CC_conv_mu_n,                 \n",
    "         drawstyle = 'steps-mid', color = 'grey', linestyle = '-', linewidth=1.39,\n",
    "         label = '$\\N{greek small letter nu}_e$ tot')\n",
    "\n",
    "\n",
    "plt.plot(binning_mu[1: -1], \n",
    "         CC_conv_mu_p1 + CC_conv_mu_n1,                \n",
    "         drawstyle = 'steps-mid', color = 'steelblue', linestyle = '-', linewidth=1.39,\n",
    "         label = '$\\N{greek small letter nu}_e$ heavy')\n",
    "\n",
    "\n",
    "plt.plot(binning_mu[1: -1], \n",
    "         CC_conv_mu_p_not1 + CC_conv_mu_n_not1,                 \n",
    "         drawstyle = 'steps-mid', color = 'firebrick', linestyle = '-', linewidth=1.39,\n",
    "         label = '$\\N{greek small letter nu}_e$ $\\pi$/K')\n",
    "\n",
    "plt.xlabel('E [Gev]')\n",
    "plt.xlim([1, 5000])\n",
    "plt.legend()\n",
    "plt.xscale('log')\n",
    "plt.yscale('log')\n",
    "plt.grid('True',axis='x',which='both')\n",
    "plt.title('CC DIS interacting neutrinos')\n",
    "plt.show()\n",
    "\n",
    "CC_kin_mu_mean = ( binning_mu[1: -1] * (CC_conv_mu_p + CC_conv_mu_n) ).sum()/(CC_conv_mu_p + CC_conv_mu_n).sum()\n",
    "print('energia media CC neutrini muonici', CC_kin_mu_mean)"
   ]
  },
  {
   "cell_type": "code",
   "execution_count": 628,
   "id": "d6230c5d",
   "metadata": {},
   "outputs": [
    {
     "name": "stdout",
     "output_type": "stream",
     "text": [
      "---------------- NC ν_μ ---------------------\n",
      "\n",
      "Totale interazioni con protoni\n",
      "78.11663457675644\n",
      "\n",
      "Totale interazioni con neturoni\n",
      "128.5404066417992\n",
      "\n",
      "Heavy interazioni con protoni\n",
      "21.32909465268113\n",
      "\n",
      "Heavy interazioni con neturoni\n",
      "34.98709955452287\n",
      "\n",
      "π/K interazioni con protoni\n",
      "56.7875399240763\n",
      "\n",
      "π/K interazioni con neturoni\n",
      "93.55330708727794\n",
      "\n",
      "\n",
      "\n",
      "TOTALE NC DIS 206.65704121855563\n"
     ]
    },
    {
     "data": {
      "image/png": "[encoded data removed]",
      "text/plain": [
       "<Figure size 432x288 with 1 Axes>"
      ]
     },
     "metadata": {
      "needs_background": "light"
     },
     "output_type": "display_data"
    },
    {
     "name": "stdout",
     "output_type": "stream",
     "text": [
      "energia media NC neutrini muonici 454.4802528898761\n"
     ]
    }
   ],
   "source": [
    "print('---------------- NC \\N{greek small letter nu}_\\N{greek small letter mu} ---------------------')\n",
    "\n",
    "#totale\n",
    "print('\\nTotale interazioni con protoni')\n",
    "NC_conv_mu_p = convolve(int_ncp_mu[1: -1], n_mu)\n",
    "\n",
    "print('\\nTotale interazioni con neturoni')\n",
    "NC_conv_mu_n = convolve(int_ncn_mu[1: -1], n_mu)\n",
    "\n",
    "#heavy\n",
    "print('\\nHeavy interazioni con protoni')\n",
    "NC_conv_mu_p1 = convolve(int_ncp_mu[1: -1], n_mu1)\n",
    "\n",
    "print('\\nHeavy interazioni con neturoni')\n",
    "NC_conv_mu_n1 = convolve(int_ncn_mu[1: -1], n_mu1)\n",
    "\n",
    "\n",
    "# pioni/kaoni\n",
    "print('\\n\\N{greek small letter pi}/K interazioni con protoni') \n",
    "NC_conv_mu_p_not1 = convolve(int_ncp_mu[1: -1], n_mu_not1)\n",
    "\n",
    "print('\\n\\N{greek small letter pi}/K interazioni con neturoni')\n",
    "NC_conv_mu_n_not1 = convolve(int_ncn_mu[1: -1], n_mu_not1)\n",
    "\n",
    "NC_TOT_MU = NC_conv_mu_p.sum()+NC_conv_mu_n.sum()\n",
    "print('\\n\\n\\nTOTALE NC DIS',NC_TOT_MU)\n",
    "\n",
    "\n",
    "plt.plot(binning_mu[1: -1], \n",
    "         NC_conv_mu_p + NC_conv_mu_n,                 \n",
    "         drawstyle = 'steps-mid', color = 'grey', linestyle = '-', linewidth=1.39,\n",
    "         label = '$\\N{greek small letter nu}_e$ tot')\n",
    "\n",
    "\n",
    "plt.plot(binning_mu[1: -1], \n",
    "         NC_conv_mu_p1 + NC_conv_mu_n1,                \n",
    "         drawstyle = 'steps-mid', color = 'steelblue', linestyle = '-', linewidth=1.39,\n",
    "         label = '$\\N{greek small letter nu}_e$ heavy')\n",
    "\n",
    "\n",
    "plt.plot(binning_mu[1: -1], \n",
    "         NC_conv_mu_p_not1 + NC_conv_mu_n_not1,                 \n",
    "         drawstyle = 'steps-mid', color = 'firebrick', linestyle = '-', linewidth=1.39,\n",
    "         label = '$\\N{greek small letter nu}_e$ $\\pi$/K')\n",
    "\n",
    "plt.xlabel('E [Gev]')\n",
    "plt.xlim([1, 5000])\n",
    "plt.legend()\n",
    "plt.xscale('log')\n",
    "plt.yscale('log')\n",
    "plt.grid('True',axis='x',which='both')\n",
    "plt.title('NC DIS interacting neutrinos')\n",
    "plt.show()\n",
    "\n",
    "NC_kin_mu_mean = ( binning_mu[1: -1] * (NC_conv_mu_p + NC_conv_mu_n) ).sum()/(NC_conv_mu_p + NC_conv_mu_n).sum()\n",
    "print('energia media NC neutrini muonici', NC_kin_mu_mean)"
   ]
  },
  {
   "cell_type": "markdown",
   "id": "a65a89b9",
   "metadata": {},
   "source": [
    "##### Anti-muonici ------------------------------------------------------------------------------------"
   ]
  },
  {
   "cell_type": "code",
   "execution_count": 629,
   "id": "fb0cdad1",
   "metadata": {},
   "outputs": [
    {
     "name": "stdout",
     "output_type": "stream",
     "text": [
      "---------------- CC anti-ν_μ ---------------------\n",
      "\n",
      "Totale interazioni con protoni\n",
      "130.09569720405247\n",
      "\n",
      "Totale interazioni con neturoni\n",
      "113.3044747934193\n",
      "\n",
      "Heavy interazioni con protoni\n",
      "46.7479388399359\n",
      "\n",
      "Heavy interazioni con neturoni\n",
      "41.357590013806785\n",
      "\n",
      "π/K interazioni con protoni\n",
      "83.34775836411656\n",
      "\n",
      "π/K interazioni con neturoni\n",
      "71.94688477961249\n",
      "\n",
      "\n",
      "\n",
      "TOTALE CC DIS 243.40017199747177\n"
     ]
    },
    {
     "data": {
      "image/png": "[encoded data removed]",
      "text/plain": [
       "<Figure size 432x288 with 1 Axes>"
      ]
     },
     "metadata": {
      "needs_background": "light"
     },
     "output_type": "display_data"
    },
    {
     "name": "stdout",
     "output_type": "stream",
     "text": [
      "energia media CC neutrini antimuonici 489.07249284741266\n"
     ]
    }
   ],
   "source": [
    "print('---------------- CC anti-\\N{greek small letter nu}_\\N{greek small letter mu} ---------------------')\n",
    "\n",
    "#totale\n",
    "print('\\nTotale interazioni con protoni')\n",
    "CC_conv_antimu_p = convolve(int_ccp_antimu[1: -1], n_antimu)\n",
    "\n",
    "print('\\nTotale interazioni con neturoni')\n",
    "CC_conv_antimu_n = convolve(int_ccn_antimu[1: -1], n_antimu)\n",
    "\n",
    "#heavy\n",
    "print('\\nHeavy interazioni con protoni')\n",
    "CC_conv_antimu_p1 = convolve(int_ccp_antimu[1: -1], n_antimu1)\n",
    "\n",
    "print('\\nHeavy interazioni con neturoni')\n",
    "CC_conv_antimu_n1 = convolve(int_ccn_antimu[1: -1], n_antimu1)\n",
    "\n",
    "\n",
    "# pioni/kaoni\n",
    "print('\\n\\N{greek small letter pi}/K interazioni con protoni') \n",
    "CC_conv_antimu_p_not1 = convolve(int_ccp_antimu[1: -1], n_antimu_not1)\n",
    "\n",
    "print('\\n\\N{greek small letter pi}/K interazioni con neturoni')\n",
    "CC_conv_antimu_n_not1 = convolve(int_ccn_antimu[1: -1], n_antimu_not1)\n",
    "\n",
    "CC_TOT_ANTIMU = CC_conv_antimu_p.sum()+CC_conv_antimu_n.sum()\n",
    "print('\\n\\n\\nTOTALE CC DIS',CC_TOT_ANTIMU)\n",
    "\n",
    "\n",
    "\n",
    "plt.plot(binning_antimu[1: -1], \n",
    "         CC_conv_antimu_p + CC_conv_antimu_n,                 \n",
    "         drawstyle = 'steps-mid', color = 'grey', linestyle = '-', linewidth=1.39,\n",
    "         label = '$\\N{greek small letter nu}_e$ tot')\n",
    "\n",
    "\n",
    "plt.plot(binning_antimu[1: -1], \n",
    "         CC_conv_antimu_p1 + CC_conv_antimu_n1,                \n",
    "         drawstyle = 'steps-mid', color = 'steelblue', linestyle = '-', linewidth=1.39,\n",
    "         label = '$\\N{greek small letter nu}_e$ heavy')\n",
    "\n",
    "\n",
    "plt.plot(binning_antimu[1: -1], \n",
    "         CC_conv_antimu_p_not1 + CC_conv_antimu_n_not1,                 \n",
    "         drawstyle = 'steps-mid', color = 'firebrick', linestyle = '-', linewidth=1.39,\n",
    "         label = '$\\N{greek small letter nu}_e$ $\\pi$/K')\n",
    "\n",
    "plt.xlabel('E [Gev]')\n",
    "plt.xlim([1, 5000])\n",
    "plt.legend()\n",
    "plt.xscale('log')\n",
    "plt.yscale('log')\n",
    "plt.grid('True',axis='x',which='both')\n",
    "plt.title('CC DIS interacting neutrinos')\n",
    "plt.show()\n",
    "\n",
    "CC_kin_antimu_mean = ( binning_antimu[1: -1] * (CC_conv_antimu_p + CC_conv_antimu_n) ).sum()/(CC_conv_antimu_p + CC_conv_antimu_n).sum()\n",
    "print('energia media CC neutrini antimuonici', CC_kin_antimu_mean)"
   ]
  },
  {
   "cell_type": "code",
   "execution_count": 630,
   "id": "e9237088",
   "metadata": {},
   "outputs": [
    {
     "name": "stdout",
     "output_type": "stream",
     "text": [
      "---------------- NC anti-ν_μ ---------------------\n",
      "\n",
      "Totale interazioni con protoni\n",
      "40.39499759616556\n",
      "\n",
      "Totale interazioni con neturoni\n",
      "60.16521253803181\n",
      "\n",
      "Heavy interazioni con protoni\n",
      "14.708497058699237\n",
      "\n",
      "Heavy interazioni con neturoni\n",
      "21.91343400632658\n",
      "\n",
      "π/K interazioni con protoni\n",
      "25.686500537466323\n",
      "\n",
      "π/K interazioni con neturoni\n",
      "38.25177853170523\n",
      "\n",
      "\n",
      "\n",
      "TOTALE NC DIS 100.56021013419738\n"
     ]
    },
    {
     "data": {
      "image/png": "[encoded data removed]",
      "text/plain": [
       "<Figure size 432x288 with 1 Axes>"
      ]
     },
     "metadata": {
      "needs_background": "light"
     },
     "output_type": "display_data"
    },
    {
     "name": "stdout",
     "output_type": "stream",
     "text": [
      "energia media NC neutrini antimuonici 493.0906105753408\n"
     ]
    }
   ],
   "source": [
    "print('---------------- NC anti-\\N{greek small letter nu}_\\N{greek small letter mu} ---------------------')\n",
    "\n",
    "#totale\n",
    "print('\\nTotale interazioni con protoni')\n",
    "NC_conv_antimu_p = convolve(int_ncp_antimu[1: -1], n_antimu)\n",
    "\n",
    "print('\\nTotale interazioni con neturoni')\n",
    "NC_conv_antimu_n = convolve(int_ncn_antimu[1: -1], n_antimu)\n",
    "\n",
    "#heavy\n",
    "print('\\nHeavy interazioni con protoni')\n",
    "NC_conv_antimu_p1 = convolve(int_ncp_antimu[1: -1], n_antimu1)\n",
    "\n",
    "print('\\nHeavy interazioni con neturoni')\n",
    "NC_conv_antimu_n1 = convolve(int_ncn_antimu[1: -1], n_antimu1)\n",
    "\n",
    "\n",
    "# pioni/kaoni\n",
    "print('\\n\\N{greek small letter pi}/K interazioni con protoni') \n",
    "NC_conv_antimu_p_not1 = convolve(int_ncp_antimu[1: -1], n_antimu_not1)\n",
    "\n",
    "print('\\n\\N{greek small letter pi}/K interazioni con neturoni')\n",
    "NC_conv_antimu_n_not1 = convolve(int_ncn_antimu[1: -1], n_antimu_not1)\n",
    "\n",
    "NC_TOT_ANTIMU = NC_conv_antimu_p.sum()+NC_conv_antimu_n.sum()\n",
    "print('\\n\\n\\nTOTALE NC DIS',NC_TOT_ANTIMU)\n",
    "\n",
    "\n",
    "plt.plot(binning_antimu[1: -1], \n",
    "         NC_conv_antimu_p + NC_conv_antimu_n,                 \n",
    "         drawstyle = 'steps-mid', color = 'grey', linestyle = '-', linewidth=1.39,\n",
    "         label = '$\\N{greek small letter nu}_e$ tot')\n",
    "\n",
    "\n",
    "plt.plot(binning_antimu[1: -1], \n",
    "         NC_conv_antimu_p1 + NC_conv_antimu_n1,                \n",
    "         drawstyle = 'steps-mid', color = 'steelblue', linestyle = '-', linewidth=1.39,\n",
    "         label = '$\\N{greek small letter nu}_e$ heavy')\n",
    "\n",
    "\n",
    "plt.plot(binning_antimu[1: -1], \n",
    "         NC_conv_antimu_p_not1 + NC_conv_antimu_n_not1,                 \n",
    "         drawstyle = 'steps-mid', color = 'firebrick', linestyle = '-', linewidth=1.39,\n",
    "         label = '$\\N{greek small letter nu}_e$ $\\pi$/K')\n",
    "\n",
    "plt.xlabel('E [Gev]')\n",
    "plt.xlim([1, 5000])\n",
    "plt.legend()\n",
    "plt.xscale('log')\n",
    "plt.yscale('log')\n",
    "plt.grid('True',axis='x',which='both')\n",
    "plt.title('NC DIS interacting neutrinos')\n",
    "plt.show()\n",
    "\n",
    "NC_kin_antimu_mean = ( binning_antimu[1: -1] * (NC_conv_antimu_p + NC_conv_antimu_n) ).sum()/(NC_conv_antimu_p + NC_conv_antimu_n).sum()\n",
    "print('energia media NC neutrini antimuonici', NC_kin_antimu_mean)"
   ]
  },
  {
   "cell_type": "markdown",
   "id": "3fd4e8af",
   "metadata": {},
   "source": [
    "##### Tauonici ---------------------------------------------------------------------"
   ]
  },
  {
   "cell_type": "code",
   "execution_count": 631,
   "id": "b65de500",
   "metadata": {},
   "outputs": [
    {
     "name": "stdout",
     "output_type": "stream",
     "text": [
      "---------------- CC ν_τ ---------------------\n",
      "\n",
      "Totale interazioni con protoni\n",
      "3.0120139211318673\n",
      "\n",
      "Totale interazioni con neturoni\n",
      "8.660909521186493\n",
      "\n",
      "Heavy interazioni con protoni\n",
      "3.0120139211318673\n",
      "\n",
      "Heavy interazioni con neturoni\n",
      "8.660909521186493\n",
      "\n",
      "π/K interazioni con protoni\n",
      "0.0\n",
      "\n",
      "π/K interazioni con neturoni\n",
      "0.0\n",
      "\n",
      "\n",
      "\n",
      "TOTALE CC DIS 11.67292344231836\n"
     ]
    },
    {
     "data": {
      "image/png": "[encoded data removed]",
      "text/plain": [
       "<Figure size 432x288 with 1 Axes>"
      ]
     },
     "metadata": {
      "needs_background": "light"
     },
     "output_type": "display_data"
    },
    {
     "name": "stdout",
     "output_type": "stream",
     "text": [
      "energia media CC neutrini tauonici 753.6733355459185\n"
     ]
    }
   ],
   "source": [
    "print('---------------- CC \\N{greek small letter nu}_\\N{greek small letter tau} ---------------------')\n",
    "\n",
    "#totale\n",
    "print('\\nTotale interazioni con protoni')\n",
    "CC_conv_tau_p = convolve(int_ccp_tau[1: -1], n_tau)\n",
    "\n",
    "print('\\nTotale interazioni con neturoni')\n",
    "CC_conv_tau_n = convolve(int_ccn_tau[1: -1], n_tau)\n",
    "\n",
    "#heavy\n",
    "print('\\nHeavy interazioni con protoni')\n",
    "CC_conv_tau_p1 = convolve(int_ccp_tau[1: -1], n_tau1)\n",
    "\n",
    "print('\\nHeavy interazioni con neturoni')\n",
    "CC_conv_tau_n1 = convolve(int_ccn_tau[1: -1], n_tau1)\n",
    "\n",
    "\n",
    "# pioni/kaoni\n",
    "print('\\n\\N{greek small letter pi}/K interazioni con protoni') \n",
    "CC_conv_tau_p_not1 = convolve(int_ccp_tau[1: -1], n_tau_not1)\n",
    "\n",
    "print('\\n\\N{greek small letter pi}/K interazioni con neturoni')\n",
    "CC_conv_tau_n_not1 = convolve(int_ccn_tau[1: -1], n_tau_not1)\n",
    "\n",
    "CC_TOT_TAU = CC_conv_tau_p.sum()+CC_conv_tau_n.sum()\n",
    "print('\\n\\n\\nTOTALE CC DIS',CC_TOT_TAU)\n",
    "\n",
    "\n",
    "\n",
    "plt.plot(binning_tau[1: -1], \n",
    "         CC_conv_tau_p + CC_conv_tau_n,                 \n",
    "         drawstyle = 'steps-mid', color = 'grey', linestyle = '-', linewidth=1.39,\n",
    "         label = '$\\N{greek small letter nu}_e$ tot')\n",
    "\n",
    "\n",
    "plt.plot(binning_tau[1: -1], \n",
    "         CC_conv_tau_p1 + CC_conv_tau_n1,                \n",
    "         drawstyle = 'steps-mid', color = 'steelblue', linestyle = '-', linewidth=1.39,\n",
    "         label = '$\\N{greek small letter nu}_e$ heavy')\n",
    "\n",
    "\n",
    "plt.plot(binning_tau[1: -1], \n",
    "         CC_conv_tau_p_not1 + CC_conv_tau_n_not1,                 \n",
    "         drawstyle = 'steps-mid', color = 'firebrick', linestyle = '-', linewidth=1.39,\n",
    "         label = '$\\N{greek small letter nu}_e$ $\\pi$/K')\n",
    "\n",
    "plt.xlabel('E [Gev]')\n",
    "plt.xlim([1, 5000])\n",
    "plt.legend()\n",
    "plt.xscale('log')\n",
    "plt.yscale('log')\n",
    "plt.grid('True',axis='x',which='both')\n",
    "plt.title('CC DIS interacting neutrinos')\n",
    "plt.show()\n",
    "\n",
    "CC_kin_tau_mean = ( binning_tau[1: -1] * (CC_conv_tau_p + CC_conv_tau_n) ).sum()/(CC_conv_tau_p + CC_conv_tau_n).sum()\n",
    "print('energia media CC neutrini tauonici', CC_kin_tau_mean)"
   ]
  },
  {
   "cell_type": "code",
   "execution_count": 632,
   "id": "f84182c6",
   "metadata": {},
   "outputs": [
    {
     "name": "stdout",
     "output_type": "stream",
     "text": [
      "---------------- NC ν_τ ---------------------\n",
      "\n",
      "Totale interazioni con protoni\n",
      "1.5991256144702903\n",
      "\n",
      "Totale interazioni con neturoni\n",
      "2.623033709935207\n",
      "\n",
      "Heavy interazioni con protoni\n",
      "1.5991256144702903\n",
      "\n",
      "Heavy interazioni con neturoni\n",
      "2.623033709935207\n",
      "\n",
      "π/K interazioni con protoni\n",
      "0.0\n",
      "\n",
      "π/K interazioni con neturoni\n",
      "0.0\n",
      "\n",
      "\n",
      "\n",
      "TOTALE NC DIS 4.222159324405498\n"
     ]
    },
    {
     "data": {
      "image/png": "[encoded data removed]",
      "text/plain": [
       "<Figure size 432x288 with 1 Axes>"
      ]
     },
     "metadata": {
      "needs_background": "light"
     },
     "output_type": "display_data"
    },
    {
     "name": "stdout",
     "output_type": "stream",
     "text": [
      "energia media NC neutrini tauonici 741.1500325394878\n"
     ]
    }
   ],
   "source": [
    "print('---------------- NC \\N{greek small letter nu}_\\N{greek small letter tau} ---------------------')\n",
    "\n",
    "#totale\n",
    "print('\\nTotale interazioni con protoni')\n",
    "NC_conv_tau_p = convolve(int_ncp_tau[1: -1], n_tau)\n",
    "\n",
    "print('\\nTotale interazioni con neturoni')\n",
    "NC_conv_tau_n = convolve(int_ncn_tau[1: -1], n_tau)\n",
    "\n",
    "#heavy\n",
    "print('\\nHeavy interazioni con protoni')\n",
    "NC_conv_tau_p1 = convolve(int_ncp_tau[1: -1], n_tau1)\n",
    "\n",
    "print('\\nHeavy interazioni con neturoni')\n",
    "NC_conv_tau_n1 = convolve(int_ncn_tau[1: -1], n_tau1)\n",
    "\n",
    "\n",
    "# pioni/kaoni\n",
    "print('\\n\\N{greek small letter pi}/K interazioni con protoni') \n",
    "NC_conv_tau_p_not1 = convolve(int_ncp_tau[1: -1], n_tau_not1)\n",
    "\n",
    "print('\\n\\N{greek small letter pi}/K interazioni con neturoni')\n",
    "NC_conv_tau_n_not1 = convolve(int_ncn_tau[1: -1], n_tau_not1)\n",
    "\n",
    "NC_TOT_TAU = NC_conv_tau_p.sum()+NC_conv_tau_n.sum()\n",
    "print('\\n\\n\\nTOTALE NC DIS',NC_TOT_TAU)\n",
    "\n",
    "\n",
    "plt.plot(binning_tau[1: -1], \n",
    "         NC_conv_tau_p + NC_conv_tau_n,                 \n",
    "         drawstyle = 'steps-mid', color = 'grey', linestyle = '-', linewidth=1.39,\n",
    "         label = '$\\N{greek small letter nu}_e$ tot')\n",
    "\n",
    "\n",
    "plt.plot(binning_tau[1: -1], \n",
    "         NC_conv_tau_p1 + NC_conv_tau_n1,                \n",
    "         drawstyle = 'steps-mid', color = 'steelblue', linestyle = '-', linewidth=1.39,\n",
    "         label = '$\\N{greek small letter nu}_e$ heavy')\n",
    "\n",
    "\n",
    "plt.plot(binning_tau[1: -1], \n",
    "         NC_conv_tau_p_not1 + NC_conv_tau_n_not1,                 \n",
    "         drawstyle = 'steps-mid', color = 'firebrick', linestyle = '-', linewidth=1.39,\n",
    "         label = '$\\N{greek small letter nu}_e$ $\\pi$/K')\n",
    "\n",
    "plt.xlabel('E [Gev]')\n",
    "plt.xlim([1, 5000])\n",
    "plt.legend()\n",
    "plt.xscale('log')\n",
    "plt.yscale('log')\n",
    "plt.grid('True',axis='x',which='both')\n",
    "plt.title('NC DIS interacting neutrinos')\n",
    "plt.show()\n",
    "\n",
    "NC_kin_tau_mean = ( binning_tau[1: -1] * (NC_conv_tau_p + NC_conv_tau_n) ).sum()/(NC_conv_tau_p + NC_conv_tau_n).sum()\n",
    "print('energia media NC neutrini tauonici', NC_kin_tau_mean)"
   ]
  },
  {
   "cell_type": "markdown",
   "id": "012c1e9d",
   "metadata": {},
   "source": [
    "##### Anti-tauonici"
   ]
  },
  {
   "cell_type": "code",
   "execution_count": 633,
   "id": "86b2791a",
   "metadata": {},
   "outputs": [
    {
     "name": "stdout",
     "output_type": "stream",
     "text": [
      "---------------- CC anti-ν_τ ---------------------\n",
      "\n",
      "Totale interazioni con protoni\n",
      "2.913719304819973\n",
      "\n",
      "Totale interazioni con neturoni\n",
      "2.4800656991806616\n",
      "\n",
      "Heavy interazioni con protoni\n",
      "2.913719304819973\n",
      "\n",
      "Heavy interazioni con neturoni\n",
      "2.4800656991806616\n",
      "\n",
      "π/K interazioni con protoni\n",
      "0.0\n",
      "\n",
      "π/K interazioni con neturoni\n",
      "0.0\n",
      "\n",
      "\n",
      "\n",
      "TOTALE CC DIS 5.393785004000635\n"
     ]
    },
    {
     "data": {
      "image/png": "[encoded data removed]",
      "text/plain": [
       "<Figure size 432x288 with 1 Axes>"
      ]
     },
     "metadata": {
      "needs_background": "light"
     },
     "output_type": "display_data"
    },
    {
     "name": "stdout",
     "output_type": "stream",
     "text": [
      "energia media CC neutrini antitauonici 748.9953862885607\n"
     ]
    }
   ],
   "source": [
    "print('---------------- CC anti-\\N{greek small letter nu}_\\N{greek small letter tau} ---------------------')\n",
    "\n",
    "#totale\n",
    "print('\\nTotale interazioni con protoni')\n",
    "CC_conv_antitau_p = convolve(int_ccp_antitau[1: -1], n_antitau)\n",
    "\n",
    "print('\\nTotale interazioni con neturoni')\n",
    "CC_conv_antitau_n = convolve(int_ccn_antitau[1: -1], n_antitau)\n",
    "\n",
    "#heavy\n",
    "print('\\nHeavy interazioni con protoni')\n",
    "CC_conv_antitau_p1 = convolve(int_ccp_antitau[1: -1], n_antitau1)\n",
    "\n",
    "print('\\nHeavy interazioni con neturoni')\n",
    "CC_conv_antitau_n1 = convolve(int_ccn_antitau[1: -1], n_antitau1)\n",
    "\n",
    "\n",
    "# pioni/kaoni\n",
    "print('\\n\\N{greek small letter pi}/K interazioni con protoni') \n",
    "CC_conv_antitau_p_not1 = convolve(int_ccp_antitau[1: -1], n_antitau_not1)\n",
    "\n",
    "print('\\n\\N{greek small letter pi}/K interazioni con neturoni')\n",
    "CC_conv_antitau_n_not1 = convolve(int_ccn_antitau[1: -1], n_antitau_not1)\n",
    "\n",
    "CC_TOT_ANTITAU = CC_conv_antitau_p.sum()+CC_conv_antitau_n.sum()\n",
    "print('\\n\\n\\nTOTALE CC DIS',CC_TOT_ANTITAU)\n",
    "\n",
    "\n",
    "\n",
    "plt.plot(binning_antitau[1: -1], \n",
    "         CC_conv_antitau_p + CC_conv_antitau_n,                 \n",
    "         drawstyle = 'steps-mid', color = 'grey', linestyle = '-', linewidth=1.39,\n",
    "         label = '$\\N{greek small letter nu}_e$ tot')\n",
    "\n",
    "\n",
    "plt.plot(binning_antitau[1: -1], \n",
    "         CC_conv_antitau_p1 + CC_conv_antitau_n1,                \n",
    "         drawstyle = 'steps-mid', color = 'steelblue', linestyle = '-', linewidth=1.39,\n",
    "         label = '$\\N{greek small letter nu}_e$ heavy')\n",
    "\n",
    "\n",
    "plt.plot(binning_antitau[1: -1], \n",
    "         CC_conv_antitau_p_not1 + CC_conv_antitau_n_not1,                 \n",
    "         drawstyle = 'steps-mid', color = 'firebrick', linestyle = '-', linewidth=1.39,\n",
    "         label = '$\\N{greek small letter nu}_e$ $\\pi$/K')\n",
    "\n",
    "plt.xlabel('E [Gev]')\n",
    "plt.xlim([1, 5000])\n",
    "plt.legend()\n",
    "plt.xscale('log')\n",
    "plt.yscale('log')\n",
    "plt.grid('True',axis='x',which='both')\n",
    "plt.title('CC DIS interacting neutrinos')\n",
    "plt.show()\n",
    "\n",
    "CC_kin_antitau_mean = ( binning_antitau[1: -1] * (CC_conv_antitau_p + CC_conv_antitau_n) ).sum()/(CC_conv_antitau_p + CC_conv_antitau_n).sum()\n",
    "print('energia media CC neutrini antitauonici', CC_kin_antitau_mean)"
   ]
  },
  {
   "cell_type": "code",
   "execution_count": 634,
   "id": "871d31a0",
   "metadata": {},
   "outputs": [
    {
     "name": "stdout",
     "output_type": "stream",
     "text": [
      "---------------- NC anti-ν_τ ---------------------\n",
      "\n",
      "Totale interazioni con protoni\n",
      "1.0019514793532847\n",
      "\n",
      "Totale interazioni con neturoni\n",
      "1.4927047395111823\n",
      "\n",
      "Heavy interazioni con protoni\n",
      "1.0019514793532847\n",
      "\n",
      "Heavy interazioni con neturoni\n",
      "1.4927047395111823\n",
      "\n",
      "π/K interazioni con protoni\n",
      "0.0\n",
      "\n",
      "π/K interazioni con neturoni\n",
      "0.0\n",
      "\n",
      "\n",
      "\n",
      "TOTALE NC DIS 2.494656218864467\n"
     ]
    },
    {
     "data": {
      "image/png": "[encoded data removed]",
      "text/plain": [
       "<Figure size 432x288 with 1 Axes>"
      ]
     },
     "metadata": {
      "needs_background": "light"
     },
     "output_type": "display_data"
    },
    {
     "name": "stdout",
     "output_type": "stream",
     "text": [
      "energia media NC neutrini antitauonici 728.2171580899114\n"
     ]
    }
   ],
   "source": [
    "print('---------------- NC anti-\\N{greek small letter nu}_\\N{greek small letter tau} ---------------------')\n",
    "\n",
    "#totale\n",
    "print('\\nTotale interazioni con protoni')\n",
    "NC_conv_antitau_p = convolve(int_ncp_antitau[1: -1], n_antitau)\n",
    "\n",
    "print('\\nTotale interazioni con neturoni')\n",
    "NC_conv_antitau_n = convolve(int_ncn_antitau[1: -1], n_antitau)\n",
    "\n",
    "#heavy\n",
    "print('\\nHeavy interazioni con protoni')\n",
    "NC_conv_antitau_p1 = convolve(int_ncp_antitau[1: -1], n_antitau1)\n",
    "\n",
    "print('\\nHeavy interazioni con neturoni')\n",
    "NC_conv_antitau_n1 = convolve(int_ncn_antitau[1: -1], n_antitau1)\n",
    "\n",
    "\n",
    "# pioni/kaoni\n",
    "print('\\n\\N{greek small letter pi}/K interazioni con protoni') \n",
    "NC_conv_antitau_p_not1 = convolve(int_ncp_antitau[1: -1], n_antitau_not1)\n",
    "\n",
    "print('\\n\\N{greek small letter pi}/K interazioni con neturoni')\n",
    "NC_conv_antitau_n_not1 = convolve(int_ncn_antitau[1: -1], n_antitau_not1)\n",
    "\n",
    "NC_TOT_ANTITAU = NC_conv_antitau_p.sum()+NC_conv_antitau_n.sum()\n",
    "print('\\n\\n\\nTOTALE NC DIS',NC_TOT_ANTITAU)\n",
    "\n",
    "\n",
    "plt.plot(binning_antitau[1: -1], \n",
    "         NC_conv_antitau_p + NC_conv_antitau_n,                 \n",
    "         drawstyle = 'steps-mid', color = 'grey', linestyle = '-', linewidth=1.39,\n",
    "         label = '$\\N{greek small letter nu}_e$ tot')\n",
    "\n",
    "\n",
    "plt.plot(binning_antitau[1: -1], \n",
    "         NC_conv_antitau_p1 + NC_conv_antitau_n1,                \n",
    "         drawstyle = 'steps-mid', color = 'steelblue', linestyle = '-', linewidth=1.39,\n",
    "         label = '$\\N{greek small letter nu}_e$ heavy')\n",
    "\n",
    "\n",
    "plt.plot(binning_antitau[1: -1], \n",
    "         NC_conv_antitau_p_not1 + NC_conv_antitau_n_not1,                 \n",
    "         drawstyle = 'steps-mid', color = 'firebrick', linestyle = '-', linewidth=1.39,\n",
    "         label = '$\\N{greek small letter nu}_e$ $\\pi$/K')\n",
    "\n",
    "plt.xlabel('E [Gev]')\n",
    "plt.xlim([1, 5000])\n",
    "plt.legend()\n",
    "plt.xscale('log')\n",
    "plt.yscale('log')\n",
    "plt.grid('True',axis='x',which='both')\n",
    "plt.title('NC DIS interacting neutrinos')\n",
    "plt.show()\n",
    "\n",
    "NC_kin_antitau_mean = ( binning_antitau[1: -1] * (NC_conv_antitau_p + NC_conv_antitau_n) ).sum()/(NC_conv_antitau_p + NC_conv_antitau_n).sum()\n",
    "print('energia media NC neutrini antitauonici', NC_kin_antitau_mean)"
   ]
  },
  {
   "cell_type": "markdown",
   "id": "0b0b199d",
   "metadata": {},
   "source": [
    "# Riassunto"
   ]
  },
  {
   "cell_type": "code",
   "execution_count": 643,
   "id": "7c4004b4",
   "metadata": {},
   "outputs": [
    {
     "name": "stdout",
     "output_type": "stream",
     "text": [
      "╒═════════════╤═════════════╤═══════════════════╤═══════════╤════════════════════╤═══════════╤════════════════════╕\n",
      "│             │ Incidenti   │                   │ CC DIS    │                    │ NC DIS    │                    │\n",
      "╞═════════════╪═════════════╪═══════════════════╪═══════════╪════════════════════╪═══════════╪════════════════════╡\n",
      "│             │ <E> [Gev]   │ #                 │ <E> [Gev] │ #                  │ <E> [Gev] │ #                  │\n",
      "├─────────────┼─────────────┼───────────────────┼───────────┼────────────────────┼───────────┼────────────────────┤\n",
      "│ nu_mu       │ 143         │ 2,156,716,228,158 │ 446       │ 629.5520490704884  │ 454       │ 206.65704121855563 │\n",
      "├─────────────┼─────────────┼───────────────────┼───────────┼────────────────────┼───────────┼────────────────────┤\n",
      "│ anti-nu_mu  │ 143         │ 1,888,048,609,899 │ 489       │ 243.40017199747177 │ 493       │ 100.56021013419738 │\n",
      "├─────────────┼─────────────┼───────────────────┼───────────┼────────────────────┼───────────┼────────────────────┤\n",
      "│ nu_e        │ 397         │ 266,648,202,755   │ 806       │ 209.21917143729448 │ 819       │ 69.55225276591143  │\n",
      "├─────────────┼─────────────┼───────────────────┼───────────┼────────────────────┼───────────┼────────────────────┤\n",
      "│ anti-nu_e   │ 404         │ 283,632,919,722   │ 795       │ 103.5701097952815  │ 800       │ 43.018375349892544 │\n",
      "├─────────────┼─────────────┼───────────────────┼───────────┼────────────────────┼───────────┼────────────────────┤\n",
      "│ nu_tau      │ 411         │ 15,586,435,756    │ 753       │ 11.67292344231836  │ 741       │ 4.222159324405498  │\n",
      "├─────────────┼─────────────┼───────────────────┼───────────┼────────────────────┼───────────┼────────────────────┤\n",
      "│ anti-nu_tau │ 378         │ 17,515,296,069    │ 748       │ 5.393785004000635  │ 728       │ 2.494656218864467  │\n",
      "╘═════════════╧═════════════╧═══════════════════╧═══════════╧════════════════════╧═══════════╧════════════════════╛\n"
     ]
    }
   ],
   "source": [
    "TABELLONE =[ ['' ,'Incidenti'  , ''  , 'CC DIS'    ,''       , 'NC DIS'    , ''    ],     \n",
    "             ['' , '<E> [Gev]' , '#' , '<E> [Gev]' , '#'     , '<E> [Gev]' , '#'   ],\n",
    "             \n",
    "            ['nu_mu' , int(kin_mu_avg) , str( \"{:,}\".format(int(values_mu.sum()))), int(CC_kin_mu_mean) , CC_TOT_MU , \n",
    "              int(NC_kin_mu_mean) , NC_TOT_MU ],\n",
    "             \n",
    "              \n",
    "            ['anti-nu_mu' ,  int(kin_antimu_avg) , str( \"{:,}\".format(int(values_antimu.sum()))),\n",
    "              int(CC_kin_antimu_mean) , CC_TOT_ANTIMU     , int(NC_kin_antimu_mean) , NC_TOT_ANTIMU ],\n",
    "           \n",
    "            \n",
    "            ['nu_e' , int(kin_el_avg) , str( \"{:,}\".format(int(values_el.sum()))), int(CC_kin_el_mean) , CC_TOT_EL , \n",
    "              int(NC_kin_el_mean) , NC_TOT_EL ],\n",
    "             \n",
    "              \n",
    "            ['anti-nu_e' ,  int(kin_antiel_avg) , str( \"{:,}\".format(int(values_antiel.sum()))),\n",
    "              int(CC_kin_antiel_mean) , CC_TOT_ANTIEL     , int(NC_kin_antiel_mean) , NC_TOT_ANTIEL ],\n",
    "            \n",
    "              \n",
    "            ['nu_tau' , int(kin_tau_avg) , str( \"{:,}\".format(int(values_tau.sum()))), int(CC_kin_tau_mean) , CC_TOT_TAU , \n",
    "              int(NC_kin_tau_mean) , NC_TOT_TAU ],\n",
    "             \n",
    "              \n",
    "            ['anti-nu_tau' ,  int(kin_antitau_avg) , str( \"{:,}\".format(int(values_antitau.sum()))),\n",
    "              int(CC_kin_antitau_mean) , CC_TOT_ANTITAU     , int(NC_kin_antitau_mean) , NC_TOT_ANTITAU ],\n",
    "           ]\n",
    "           \n",
    "              \n",
    "            \n",
    "print(tabulate(TABELLONE, headers='firstrow', tablefmt='fancy_grid'))              \n",
    "              \n",
    "              "
   ]
  },
  {
   "cell_type": "code",
   "execution_count": null,
   "id": "bcc6a993",
   "metadata": {},
   "outputs": [],
   "source": []
  }
 ],
 "metadata": {
  "kernelspec": {
   "display_name": "Python 3",
   "language": "python",
   "name": "python3"
  },
  "language_info": {
   "codemirror_mode": {
    "name": "ipython",
    "version": 3
   },
   "file_extension": ".py",
   "mimetype": "text/x-python",
   "name": "python",
   "nbconvert_exporter": "python",
   "pygments_lexer": "ipython3",
   "version": "3.8.8"
  }
 },
 "nbformat": 4,
 "nbformat_minor": 5
}
